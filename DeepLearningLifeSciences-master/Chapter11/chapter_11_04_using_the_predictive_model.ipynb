{
 "cells": [
  {
   "cell_type": "markdown",
   "metadata": {},
   "source": [
    "The GraphConv model we created can now be applied used to search the set of commercially available compounds we just filtered.  \n",
    "Applying the model will consist of a few steps.\n",
    "1. Load the model from disc\n",
    "2. Create a featurizer\n",
    "3. Read an featurize the molecules that we will run through the model\n",
    "4. Examine the scores for the predictions\n",
    "5. Examine the chemical strucutres of the top predicted molecules\n",
    "6. Cluster the selected molecules\n",
    "7. Write the selected molecules from each cluster to a csv file"
   ]
  },
  {
   "cell_type": "markdown",
   "metadata": {},
   "source": [
    "We will begin by importing the necessary libraries"
   ]
  },
  {
   "cell_type": "code",
   "execution_count": 1,
   "metadata": {},
   "outputs": [
    {
     "name": "stderr",
     "output_type": "stream",
     "text": [
      "/home/ubuntu/anaconda3/envs/deepchem/lib/python3.6/site-packages/sklearn/ensemble/weight_boosting.py:29: DeprecationWarning: numpy.core.umath_tests is an internal NumPy module and should not be imported. It will be removed in a future NumPy release.\n",
      "  from numpy.core.umath_tests import inner1d\n"
     ]
    }
   ],
   "source": [
    "import deepchem as dc\n",
    "import pandas as pd\n",
    "from rdkit.Chem import PandasTools, Draw\n",
    "from rdkit import DataStructs\n",
    "from rdkit.ML.Cluster import Butina\n",
    "from rdkit.Chem import rdMolDescriptors as rdmd\n",
    "import seaborn as sns"
   ]
  },
  {
   "cell_type": "markdown",
   "metadata": {},
   "source": [
    "We then read the model that we generated earlier from disc"
   ]
  },
  {
   "cell_type": "code",
   "execution_count": 3,
   "metadata": {},
   "outputs": [
    {
     "name": "stdout",
     "output_type": "stream",
     "text": [
      "WARNING:tensorflow:From /home/ubuntu/anaconda3/envs/deepchem/lib/python3.6/site-packages/tensorflow/python/framework/op_def_library.py:263: colocate_with (from tensorflow.python.framework.ops) is deprecated and will be removed in a future version.\n",
      "Instructions for updating:\n",
      "Colocations handled automatically by placer.\n"
     ]
    },
    {
     "name": "stderr",
     "output_type": "stream",
     "text": [
      "WARNING:tensorflow:From /home/ubuntu/anaconda3/envs/deepchem/lib/python3.6/site-packages/tensorflow/python/framework/op_def_library.py:263: colocate_with (from tensorflow.python.framework.ops) is deprecated and will be removed in a future version.\n",
      "Instructions for updating:\n",
      "Colocations handled automatically by placer.\n"
     ]
    },
    {
     "name": "stdout",
     "output_type": "stream",
     "text": [
      "WARNING:tensorflow:From /home/ubuntu/anaconda3/envs/deepchem/lib/python3.6/site-packages/tensorflow/python/ops/math_grad.py:317: div (from tensorflow.python.ops.math_ops) is deprecated and will be removed in a future version.\n",
      "Instructions for updating:\n",
      "Deprecated in favor of operator or tf.math.divide.\n"
     ]
    },
    {
     "name": "stderr",
     "output_type": "stream",
     "text": [
      "WARNING:tensorflow:From /home/ubuntu/anaconda3/envs/deepchem/lib/python3.6/site-packages/tensorflow/python/ops/math_grad.py:317: div (from tensorflow.python.ops.math_ops) is deprecated and will be removed in a future version.\n",
      "Instructions for updating:\n",
      "Deprecated in favor of operator or tf.math.divide.\n"
     ]
    },
    {
     "name": "stdout",
     "output_type": "stream",
     "text": [
      "WARNING:tensorflow:From /home/ubuntu/anaconda3/envs/deepchem/lib/python3.6/site-packages/tensorflow/python/ops/math_ops.py:3066: to_int32 (from tensorflow.python.ops.math_ops) is deprecated and will be removed in a future version.\n",
      "Instructions for updating:\n",
      "Use tf.cast instead.\n"
     ]
    },
    {
     "name": "stderr",
     "output_type": "stream",
     "text": [
      "WARNING:tensorflow:From /home/ubuntu/anaconda3/envs/deepchem/lib/python3.6/site-packages/tensorflow/python/ops/math_ops.py:3066: to_int32 (from tensorflow.python.ops.math_ops) is deprecated and will be removed in a future version.\n",
      "Instructions for updating:\n",
      "Use tf.cast instead.\n",
      "/home/ubuntu/anaconda3/envs/deepchem/lib/python3.6/site-packages/tensorflow/python/ops/gradients_impl.py:110: UserWarning: Converting sparse IndexedSlices to a dense Tensor of unknown shape. This may consume a large amount of memory.\n",
      "  \"Converting sparse IndexedSlices to a dense Tensor of unknown shape. \"\n"
     ]
    },
    {
     "name": "stdout",
     "output_type": "stream",
     "text": [
      "WARNING:tensorflow:From /home/ubuntu/anaconda3/envs/deepchem/lib/python3.6/site-packages/tensorflow/python/training/saver.py:1266: checkpoint_exists (from tensorflow.python.training.checkpoint_management) is deprecated and will be removed in a future version.\n",
      "Instructions for updating:\n",
      "Use standard file APIs to check for files with this prefix.\n"
     ]
    },
    {
     "name": "stderr",
     "output_type": "stream",
     "text": [
      "WARNING:tensorflow:From /home/ubuntu/anaconda3/envs/deepchem/lib/python3.6/site-packages/tensorflow/python/training/saver.py:1266: checkpoint_exists (from tensorflow.python.training.checkpoint_management) is deprecated and will be removed in a future version.\n",
      "Instructions for updating:\n",
      "Use standard file APIs to check for files with this prefix.\n"
     ]
    },
    {
     "name": "stdout",
     "output_type": "stream",
     "text": [
      "INFO:tensorflow:Restoring parameters from model_dir/model-660\n"
     ]
    },
    {
     "name": "stderr",
     "output_type": "stream",
     "text": [
      "INFO:tensorflow:Restoring parameters from model_dir/model-660\n"
     ]
    }
   ],
   "source": [
    "model = dc.models.GraphConvModel(1, batch_size=128, mode='classification',model_dir=\"model_dir\")\n",
    "model.restore()"
   ]
  },
  {
   "cell_type": "markdown",
   "metadata": {},
   "source": [
    "In order to generated predictions from our model, we first need to featurize the molecules we plan to use to generate predictions."
   ]
  },
  {
   "cell_type": "code",
   "execution_count": 4,
   "metadata": {},
   "outputs": [],
   "source": [
    "featurizer = dc.feat.ConvMolFeaturizer()"
   ]
  },
  {
   "cell_type": "markdown",
   "metadata": {},
   "source": [
    "In order to featurize the molecules, we need to transform our SMILES file into a csv.  The DeepChem featurizer also requires an activity column, so we will add one then write the file to csv. **Is there another way to do this?**"
   ]
  },
  {
   "cell_type": "code",
   "execution_count": 12,
   "metadata": {},
   "outputs": [],
   "source": [
    "df = pd.read_csv(\"zinc.smi\",sep=\" \",header=None)"
   ]
  },
  {
   "cell_type": "code",
   "execution_count": 13,
   "metadata": {},
   "outputs": [],
   "source": [
    "df.columns=[\"SMILES\",\"Name\"]"
   ]
  },
  {
   "cell_type": "code",
   "execution_count": 14,
   "metadata": {},
   "outputs": [],
   "source": [
    "rows,cols = df.shape\n",
    "df[\"Val\"] = [0] * rows #just add add a dummy column to keep the featurizer happy"
   ]
  },
  {
   "cell_type": "code",
   "execution_count": 15,
   "metadata": {},
   "outputs": [
    {
     "data": {
      "text/html": [
       "<div>\n",
       "<style scoped>\n",
       "    .dataframe tbody tr th:only-of-type {\n",
       "        vertical-align: middle;\n",
       "    }\n",
       "\n",
       "    .dataframe tbody tr th {\n",
       "        vertical-align: top;\n",
       "    }\n",
       "\n",
       "    .dataframe thead th {\n",
       "        text-align: right;\n",
       "    }\n",
       "</style>\n",
       "<table border=\"1\" class=\"dataframe\">\n",
       "  <thead>\n",
       "    <tr style=\"text-align: right;\">\n",
       "      <th></th>\n",
       "      <th>SMILES</th>\n",
       "      <th>Name</th>\n",
       "      <th>Val</th>\n",
       "    </tr>\n",
       "  </thead>\n",
       "  <tbody>\n",
       "    <tr>\n",
       "      <th>0</th>\n",
       "      <td>CN1C(=O)C[C@H](N2CCN(C(=O)CN3CCCC3)CC2)C1=O</td>\n",
       "      <td>ZINC000000036436</td>\n",
       "      <td>0</td>\n",
       "    </tr>\n",
       "    <tr>\n",
       "      <th>1</th>\n",
       "      <td>CC(=O)NC[C@H](O)[C@H]1O[C@H]2OC(C)(C)O[C@H]2[C...</td>\n",
       "      <td>ZINC000000041101</td>\n",
       "      <td>0</td>\n",
       "    </tr>\n",
       "    <tr>\n",
       "      <th>2</th>\n",
       "      <td>C1CN(c2nc(-c3nn[nH]n3)nc(N3CCOCC3)n2)CCO1</td>\n",
       "      <td>ZINC000000054542</td>\n",
       "      <td>0</td>\n",
       "    </tr>\n",
       "    <tr>\n",
       "      <th>3</th>\n",
       "      <td>OCCN(CCO)c1nc(Cl)nc(N(CCO)CCO)n1</td>\n",
       "      <td>ZINC000000109481</td>\n",
       "      <td>0</td>\n",
       "    </tr>\n",
       "    <tr>\n",
       "      <th>4</th>\n",
       "      <td>COC(=O)c1ccc(S(=O)(=O)N(CCO)CCO)n1C</td>\n",
       "      <td>ZINC000000119782</td>\n",
       "      <td>0</td>\n",
       "    </tr>\n",
       "  </tbody>\n",
       "</table>\n",
       "</div>"
      ],
      "text/plain": [
       "                                              SMILES              Name  Val\n",
       "0        CN1C(=O)C[C@H](N2CCN(C(=O)CN3CCCC3)CC2)C1=O  ZINC000000036436    0\n",
       "1  CC(=O)NC[C@H](O)[C@H]1O[C@H]2OC(C)(C)O[C@H]2[C...  ZINC000000041101    0\n",
       "2          C1CN(c2nc(-c3nn[nH]n3)nc(N3CCOCC3)n2)CCO1  ZINC000000054542    0\n",
       "3                   OCCN(CCO)c1nc(Cl)nc(N(CCO)CCO)n1  ZINC000000109481    0\n",
       "4                COC(=O)c1ccc(S(=O)(=O)N(CCO)CCO)n1C  ZINC000000119782    0"
      ]
     },
     "execution_count": 15,
     "metadata": {},
     "output_type": "execute_result"
    }
   ],
   "source": [
    "df.head()"
   ]
  },
  {
   "cell_type": "code",
   "execution_count": 16,
   "metadata": {},
   "outputs": [],
   "source": [
    "infile_name = \"zinc_filtered.csv\"\n",
    "df.to_csv(infile_name,index=False)"
   ]
  },
  {
   "cell_type": "markdown",
   "metadata": {},
   "source": [
    "We can the read this csv file with a loader and featurize the molecules we plan to predict. "
   ]
  },
  {
   "cell_type": "code",
   "execution_count": 17,
   "metadata": {},
   "outputs": [],
   "source": [
    "loader = dc.data.CSVLoader(tasks=['Val'], smiles_field=\"SMILES\", featurizer=featurizer)"
   ]
  },
  {
   "cell_type": "code",
   "execution_count": 18,
   "metadata": {},
   "outputs": [
    {
     "name": "stdout",
     "output_type": "stream",
     "text": [
      "Loading raw samples now.\n",
      "shard_size: 8192\n",
      "About to start loading CSV from zinc_filtered.csv\n",
      "Loading shard 1 of size 8192.\n",
      "Featurizing sample 0\n",
      "Featurizing sample 1000\n",
      "Featurizing sample 2000\n",
      "Featurizing sample 3000\n",
      "Featurizing sample 4000\n",
      "Featurizing sample 5000\n",
      "Featurizing sample 6000\n",
      "Featurizing sample 7000\n",
      "Featurizing sample 8000\n",
      "TIMING: featurizing shard 0 took 21.497 s\n",
      "Loading shard 2 of size 8192.\n",
      "Featurizing sample 0\n",
      "Featurizing sample 1000\n",
      "Featurizing sample 2000\n",
      "Featurizing sample 3000\n",
      "Featurizing sample 4000\n",
      "Featurizing sample 5000\n",
      "Featurizing sample 6000\n",
      "Featurizing sample 7000\n",
      "Featurizing sample 8000\n",
      "TIMING: featurizing shard 1 took 21.176 s\n",
      "Loading shard 3 of size 8192.\n",
      "Featurizing sample 0\n",
      "Featurizing sample 1000\n",
      "Featurizing sample 2000\n",
      "Featurizing sample 3000\n",
      "Featurizing sample 4000\n",
      "Featurizing sample 5000\n",
      "Featurizing sample 6000\n",
      "Featurizing sample 7000\n",
      "Featurizing sample 8000\n",
      "TIMING: featurizing shard 2 took 21.333 s\n",
      "Loading shard 4 of size 8192.\n",
      "Featurizing sample 0\n",
      "Featurizing sample 1000\n",
      "Featurizing sample 2000\n",
      "Featurizing sample 3000\n",
      "Featurizing sample 4000\n",
      "Featurizing sample 5000\n",
      "Featurizing sample 6000\n",
      "Featurizing sample 7000\n",
      "Featurizing sample 8000\n",
      "TIMING: featurizing shard 3 took 21.343 s\n",
      "Loading shard 5 of size 8192.\n",
      "Featurizing sample 0\n",
      "Featurizing sample 1000\n",
      "Featurizing sample 2000\n",
      "Featurizing sample 3000\n",
      "Featurizing sample 4000\n",
      "Featurizing sample 5000\n",
      "Featurizing sample 6000\n",
      "Featurizing sample 7000\n",
      "Featurizing sample 8000\n",
      "TIMING: featurizing shard 4 took 21.213 s\n",
      "Loading shard 6 of size 8192.\n",
      "Featurizing sample 0\n",
      "Featurizing sample 1000\n",
      "Featurizing sample 2000\n",
      "Featurizing sample 3000\n",
      "Featurizing sample 4000\n",
      "Featurizing sample 5000\n",
      "Featurizing sample 6000\n",
      "Featurizing sample 7000\n",
      "Featurizing sample 8000\n",
      "TIMING: featurizing shard 5 took 21.347 s\n",
      "Loading shard 7 of size 8192.\n",
      "Featurizing sample 0\n",
      "Featurizing sample 1000\n",
      "Featurizing sample 2000\n",
      "Featurizing sample 3000\n",
      "Featurizing sample 4000\n",
      "Featurizing sample 5000\n",
      "Featurizing sample 6000\n",
      "Featurizing sample 7000\n",
      "Featurizing sample 8000\n",
      "TIMING: featurizing shard 6 took 21.283 s\n",
      "Loading shard 8 of size 8192.\n",
      "Featurizing sample 0\n",
      "Featurizing sample 1000\n",
      "Featurizing sample 2000\n",
      "Featurizing sample 3000\n",
      "Featurizing sample 4000\n",
      "Featurizing sample 5000\n",
      "Featurizing sample 6000\n",
      "Featurizing sample 7000\n",
      "Featurizing sample 8000\n",
      "TIMING: featurizing shard 7 took 21.565 s\n",
      "Loading shard 9 of size 8192.\n",
      "Featurizing sample 0\n",
      "Featurizing sample 1000\n",
      "Featurizing sample 2000\n",
      "Featurizing sample 3000\n",
      "TIMING: featurizing shard 8 took 8.286 s\n",
      "TIMING: dataset construction took 205.402 s\n",
      "Loading dataset from disk.\n"
     ]
    }
   ],
   "source": [
    "dataset = loader.featurize(infile_name, shard_size=8192)"
   ]
  },
  {
   "cell_type": "markdown",
   "metadata": {},
   "source": [
    "The featurized molecules can be used to generate predcitions with the model."
   ]
  },
  {
   "cell_type": "code",
   "execution_count": 19,
   "metadata": {},
   "outputs": [],
   "source": [
    "pred = model.predict(dataset)"
   ]
  },
  {
   "cell_type": "code",
   "execution_count": 20,
   "metadata": {},
   "outputs": [],
   "source": [
    "pred_df = pd.DataFrame([x.flatten() for x in pred],columns=[\"Neg\",\"Pos\"])"
   ]
  },
  {
   "cell_type": "markdown",
   "metadata": {},
   "source": [
    "A distribtion plot provides a nice overview of the distribution of scores.  We cna see that only a few molecules have scores >= 0.3."
   ]
  },
  {
   "cell_type": "code",
   "execution_count": 21,
   "metadata": {},
   "outputs": [
    {
     "name": "stderr",
     "output_type": "stream",
     "text": [
      "/home/ubuntu/anaconda3/envs/deepchem/lib/python3.6/site-packages/scipy/stats/stats.py:1713: FutureWarning: Using a non-tuple sequence for multidimensional indexing is deprecated; use `arr[tuple(seq)]` instead of `arr[seq]`. In the future this will be interpreted as an array index, `arr[np.array(seq)]`, which will result either in an error or a different result.\n",
      "  return np.add.reduce(sorted[indexer] * weights, axis=axis) / sumval\n"
     ]
    },
    {
     "data": {
      "text/plain": [
       "<matplotlib.axes._subplots.AxesSubplot at 0x7f04e77e0978>"
      ]
     },
     "execution_count": 21,
     "metadata": {},
     "output_type": "execute_result"
    },
    {
     "data": {
      "image/png": "[encoded data removed]",
      "text/plain": [
       "<Figure size 432x288 with 1 Axes>"
      ]
     },
     "metadata": {
      "needs_background": "light"
     },
     "output_type": "display_data"
    }
   ],
   "source": [
    "sns.distplot(pred_df.Pos,rug=True)"
   ]
  },
  {
   "cell_type": "markdown",
   "metadata": {},
   "source": [
    "The dataframe with the scores can be joined to the dataframe with the SMILES.  This will give us the ability to view the top scoring molecules."
   ]
  },
  {
   "cell_type": "code",
   "execution_count": 22,
   "metadata": {},
   "outputs": [],
   "source": [
    "combo_df = df.join(pred_df,how=\"outer\")"
   ]
  },
  {
   "cell_type": "code",
   "execution_count": 23,
   "metadata": {},
   "outputs": [],
   "source": [
    "combo_df.sort_values(\"Pos\",inplace=True,ascending=False)"
   ]
  },
  {
   "cell_type": "markdown",
   "metadata": {},
   "source": [
    "Adding a molecule column to the dataframe enables us to look at the chemical strucutres of the hits."
   ]
  },
  {
   "cell_type": "code",
   "execution_count": 24,
   "metadata": {},
   "outputs": [],
   "source": [
    "PandasTools.AddMoleculeColumnToFrame(combo_df,\"SMILES\",\"Mol\")"
   ]
  },
  {
   "cell_type": "code",
   "execution_count": 25,
   "metadata": {},
   "outputs": [
    {
     "data": {
      "text/html": [
       "<div>\n",
       "<style scoped>\n",
       "    .dataframe tbody tr th:only-of-type {\n",
       "        vertical-align: middle;\n",
       "    }\n",
       "\n",
       "    .dataframe tbody tr th {\n",
       "        vertical-align: top;\n",
       "    }\n",
       "\n",
       "    .dataframe thead th {\n",
       "        text-align: right;\n",
       "    }\n",
       "</style>\n",
       "<table border=\"1\" class=\"dataframe\">\n",
       "  <thead>\n",
       "    <tr style=\"text-align: right;\">\n",
       "      <th></th>\n",
       "      <th>SMILES</th>\n",
       "      <th>Name</th>\n",
       "      <th>Val</th>\n",
       "      <th>Neg</th>\n",
       "      <th>Pos</th>\n",
       "      <th>Mol</th>\n",
       "    </tr>\n",
       "  </thead>\n",
       "  <tbody>\n",
       "    <tr>\n",
       "      <th>55110</th>\n",
       "      <td>Cn1cncc1C(=O)NC[C@@H](CO)NC(=O)c1cncn1C</td>\n",
       "      <td>ZINC000644062250</td>\n",
       "      <td>0</td>\n",
       "      <td>0.004964</td>\n",
       "      <td>0.995036</td>\n",
       "      <td><img src=\"data:image/png;base64,iVBORw0KGgoAAAANSUhEUgAAAMgAAADICAIAAAAiOjnJAAAABmJLR0QA/wD/AP+gvaeTAAAZwklEQVR4nO3deVhTV94H8G/IwioEVEStDwhuoC1OFRUXHhecgrVqa3HU0SrWqlSLteMISse9VTvTeZyqHdGRqtXa4tTRUccFN9AqLq3lLYoioEVFC0LCHojk9/5xIyIgZLknQTifx8cnubk55wS+3Nzl3HMkRASOE5uNtRvANU88WBwTPFgcEzxYHBM8WBwTPFgcEzxYHBM8WBwTPFgcEzxYHBM8WBwTPFgcEzxYHBM8WBwTPFgcEzxYHBM8WBwTPFgcEzxYHBM8WBwTPFgcEzxYHBM8WBwTPFgcEzxYHBM8WBwTPFgcEzxYHBM8WBwTPFgcEzxYHBM8WBwTPFgcEzxYHBM8WBwTPFgcEzxYHBM8WBwTPFgcEzxYHBM8WBwTPFgcEzxYHBM8WBwTPFgcEzxYHBM8WBwTPFgcEzxYHBMypqUfPXrUy8tLp9P5+fkxrYhralhtsZKTk0eMGBEaGhoSEhIQEHDy5ElGFXFNk/jBSklJeeONNwIDA0+dOtW6dWt3d/eysrIxY8YcP35c9Lq4povEc/v27VmzZkmlUgCOjo5RUVEqlUqn082bNw+AQqHYv3+/iNVxTZk4wbp7996sWbPkcjkAOzu7Dz/8MDc3t/pVnU43f/58IVv79u0TpUbOQKdPk7Mz3btHRDRihOXqNTdY+fkUFUUDBiQAsLGxCQsLy8zMrH61rKys+vGSJUsASKXSXbt2mVkpZ7jTp2n6dAoPJ3pRglVURCtWkLMzASSR0Lx5q27cuFH9al5eXlRUlIeHR0FBQfXCpUuXCtnasWOHWa3mDHb6NK1aRTExlJTU5INVUUGxseThQQABFBxMV648fVWlUi1ZssTR0VHYhu3du7fme5ctWwZg6NDvvvrKvIZzhhGCVVJCo0fT0KGUl0fHj1uiXuOCVVVF8fHUubM+UgMG0KlTT18tLS1dv369u7u7cFgQHBx89erVuoVs3HhWIiEbG4qNNbPx3HNptfThh5ScrA8WEX37LTk40NSpBFBYGP32G9sGGBGs4mLq0UMfKX9/OnTo6UuVlRQbS4GBqcIh4aBBgxITExsoatMmkkhIIqH1601uOfdcBQUUHEwAeXlRZeUzL332GTk4EECtW9NXX5FOx6oNDQWr7gFFWBh5eVFsLD1+rF+nqop27ny6DZsy5ZOEhARDKt68mWxsCKDVq837BNyzbt0iX18CqE0bqvevOyuLQkL0v68hQygtjUkzGglWrQOKR49Iq326QkIC9e6tb6KvL8XHG/cXsHWrPlsrVpjSdK6u48fJ1ZUAeuUVunOnoTXj48ndnQCSyykqijQakVvSSLAaOKA4eVIfKS8v2r796TbMKLt3k0xGAEVFmfL2WvLy8k6ePLlhw4bTp0+LUNyLJjaW5HIC6PXXqbDwuatVfznm51N4OEkkBFDPnnThwnURG9N4sKoPKOoaN442bKCKCrNaUJ2tzZuNe2NhYeGVK1d27NgRFRU1evRob2/v6ssJERERZrXpRaPVUmSk/u88MpKqqp675u7d1K3bM4dcSUnk60uBgdkSiWTq1KmPHj0SpUmNB0tojb29KNXVb+9e6tePapzwqkd5Of30E+3cSYsW0ahRNHr0obqXp1xcXAYOHDhr1qzvv/+eYXObmPz8/KlTP7K11djZ0e7djaw8eDABZGND779ParV+YXk5rV69SaFQAGjfvn18fLz5rWr8qPDePbK1pY4dza+rIVVVtY8VSkspPp6WLqXx46lbN5JK9X+Rwr/OnW8oFAo/P7+wsLBly5bFx8enpqbq2B3kNFVpaWldu3YFMGrU/OTkxtevrKS1a8nWlgDy8KCaJ6rT09OHDRsm/ImOGjXqTsP7aI1pPFhVVeTkRADl55tTUeNqHSsUFDyTJLmc/PxowgRauZK+/57S03WPTduta0aOHTumVCoB+Pv7G5WD1FQaNEj/g50167fs7GxhuU6n27FjR+vWrQE4ODisXbvW5B+yQeex+vUjgM6eNa0KQ9U9Vpg2jRYvpm++oZQUc/fkmp/Y2Fjhqv/48eNLSkqMfbtORzt2kIeHrkuXsbUylJOTExYWJmy6+vTpk5GRYULzDArWjBkE0D//aUL5Rmj0WIETaLVaoSeSRCKJioqqamBfvTE5Oarx48cLGQoICKh5peTw4cMvvfRSq1atTp48aULJBgXr888JoHnzTCjfCMeOPXPxgatXfn7+8OHDAdja2u7cuVOUMg8dOuTp6QlAJpNFRkYWFxcLy7ds2QLgjTfeMKFMg4J17BgBzLcir71GoaGUlcW2lhfd8uXLAXTo0OHSpUsiFltUVDR//nzhityJEyeEheHh4QD+/ve/m1CgQcG6f19/iYCd5GQCyMmJ8vIY1vKi0+l0Q4YMAXDu3DkW5V+6dGn58uXVT728vADU25OgUYZehG7dmgB68MCEKgwyahQBtGQJq/KbDWErEvXkSkVOTs6KFSu2bNkiekW//vorADc3N9P24QwNVlAQAWTY9WWj/fgjSSTk6Eg1+jNz9Tt//jyANm3aaDQaIjp8+DAAb29vc3bh6xUXFwfgzTffNO3tht6l06dPhb9/4Z07WQaub5QVK0CEefPQti2L4puVwMDA3r17P3r06L///S+AkJAQLy+vrKysU6dOiVvR6dOnAVSfMjWWocHq0mVbSory4sU1plXTgJ9/xsGDcHDARx+JXnbzNGPGDABbt24FYGNjIzwVjuBElJiYCDOCZehXoVDNgAEDTNswNuCttwigP/1J9IKbLbVa7eDgIJFIbt26RUQ5OTlyuVwul+fk5IhVxa1btwC0bdvW5Ktkhm6xXn75ZQCpqalEZGKE63PtGvbvh50d31wZwcXFJSwsjJ7sBrVv337UqFFarXbnzp1iVSF8Dw4dOlQikZhYhOEZ7NChA4Dbt2+bFuF6zZv3UOjpwRnlhx9+ANCuXbvKykoiOnToEETdhZ86VfPKK0nbt5t+qsyIYP3+978HcPDgweolhw8f3r9///Xr1zUmdUC8du2ajY1Nnz4f3Lsn8hFNS+Dv7w9AuAmqqqpKOHVefW7TTB06EGBWr2Ujxm7o1asXgNTU1OolK1euHDdunJ+fn52dnZub2+DBg2fPnr1u3bq9e/f++OOP5eXlDRe4evVqnU4XGEgdO/LRlIxW7y688NRMN24gJwft2qF7dzNKMTyD27ZtAzBlypTqJR9//HFoaGjXrl2Fy+y1yGSyLl26hIaGRkZGbtiw4ejRo9UXoYgoPT1dKpXK5XIz+/20WCqVqtYuvEwmUygUv5l9Y9eXXxJAkyaZVYgRwbp48SKA3r17131Jq9VmZmYmJCTExsZGRUWFhYX5+fkJF55qEn4EgilTpgCYM2eOWc1v2d555x0AS55crxgzZgyAdevWmVlsWBgBZObJfCOCVVJSYmNjI5fLExISsrOzGz0QraioSEtLO3DgwN/+9rfZs2ePHDlS++QWn4yMDJlMJpfLs/g1ZzOcO3cOgIeHh7ALf/DgQQA+Pj7m9KTV6ahdOwKoxkbAFMbdCR0REdGmTRth86NQKLy9vYODgyMjI2NjYxMSEjIzMw38SNOnTwcwc+ZMk9rMPSXs+Ap9/Kt34U3rQSX45RcCqEMHcxtm9NgNERERQ4YMadeuXb17bK1atXr11VcnTJgQExOzffv28+fP59XprpCZmSmTyaRSaXp6urnNb/HWr18P4LXXXhOeCp1qJk6caHKBX3xBAE2dam7DJGTqCc+ioqKMjIxbT6Snp2dkZDx69KjumkqlsusT3bp1i4+PP3DgQHh4uHB+jzOHWq3u2LFjeXn5rVu3fHx87t275+XlJZVK7969Wz2IhlHeegv/+Q/i4hAeblbDTA9WvdRqdWZmZlYNqampDx8+rLmOvb19ZWXl9evXu3XrJmLVLdY777zz9ddfx8TErF69GkBUVFTXrl0nT57s4OBgQmlTp+LAAaSkoHNns1olcrDqlZeXl5GRkZ6eLmzbTpw4UVBQsG/fvjfffJN11S3B2bNng4KCPDw8srOz6z3vY6zHjyEzfzRtc79Ljbdx40YA3bt319YcB4IzQ8+ePQGYMwyn6CNKWmKLVYtWq+3Ro0dWVtaOHTuEMzGcmdavX79gwYKQkJAjR47UXK5Wq9VqtUqlUqvVJSWv5Oa2VquhUun/1Xy8ahUuXIBEgrg4BAfjxAlzm2SFYAHYuXPntGnTPD09b968aWtra/kGNDPVu/ADBw7UaDRCklQqVc1fbkDAwcuXRz+vhM8+Q0UFNBq89hpWrHhhg6XT6V599dWUlJSNGzfOnTvX8g1oZsrKyjw9Pe3t7e/evVtzuYuLi6urq6urq1Kp7NVraVnZUKUSrq5wdUX1A+HxL78gORkLFmDiRJSU4PRps9skwtepSfbt2wfA3d29qKjIWm1oNhYuXAiga9euR44cuXLlSkZGRn5+vlHn32uNKJmbS3/6U+3RAI1itWAR0YABAwB8+umnVmxDM5CSkiKXy21sbM6fPy9WmQMHEkCzZ5tegjWDdebMGQBKpTKf9XgjzVdVVVVgYCCA+fPni1jsjz/qhyr94gsTS7BmsIhoxIgRABYvXmzdZry4hEs6nTp1En2PYu9ekkhIKn1mFGPDWTlYly9flkgk9vb294RTKJwxsrOzW7VqBYDRJEUff0wAOTtTaqrR77VysIho3LhxAOaxHnKkORo7diyAt99+m1H5Oh394Q/CMHdGD31g/WDduHFD6JtVcxIerlF79+4F4OzszHRjX1ZGAQEEUFCQcUOUWT9Y9KQn5LRp06zdkBdGYWFhx44dAXz55Zes68rO1k9vs3SpEcMqN4lg3b5929bWViqVpprwZd4iRUREAOjfv7/oQzbUKzmZRoz4D4CNGzca+JYmESwiEs6/mzwERYuSnJxsY2Mjk8l+/vlni1UaHx8vkUikUun//vc/Q9ZvKsF68OCBMGHYhQsXrN2WJk2r1Qp3FMbExFi4amHGSVdX15s3bza6clMJFhFFR0cDCA4OtnZDmjShN1+XLl1qTjJqGTqdbsKECQC6d+9e0PCo/E0qWCqVys3NDeLdztv8pKen29vbAzBwJizRlZWV9e3bF0DNe67q1YSClZCQIEwdHRAQ0AKnAjBEcHCw1Q+f79+/L4zi0fCpR+t0m6lLpVL5+vqqVKpWrVqpVCpvb28XFxcXFxe5XO7s7GxnZ2dvb+/s7CyX/9XFBba2cHCAkxPkcri6Qi5HQQGmT8f16+jYUd9P7cwZnDmD5csBYPBgnDtn5Q9ovu3bt4eHh7du3TotLa2tVYeou3DhwvDhwzUaTVxcXPjzbrqwVNAb8e677wIYMmTIkSNHntdDy97evuZcFTX/ffBB7RnwTp+mZcv0hQ8aZK2PJZpHjx4JYRJrCG4z7dy5MzAw8MHzB6U1v9O8CJKSkuLi4hQKxebNm/38/Pr06XPmzBkfH5+ZM2fKZLKSkpKysrKKioqSEo1Gg6IiaDQoL0dxMbRaqNWoqEDbtnB3h0aDs2efFnvoEIT7gzIzLfdZzpzB2LHibzsXLFiQl5c3dOhQYWgCq5s6derkyZPrjqJQzfrBqqysFEZwWLJkiZ+fH4Cvv/762rVrxcXFw4YNc3JyMqSQM2dw7hwWL8bEiaiq0i8cPVr/66wxQI4lvPUW/vIXNHDT5LhxSEmBXA5nZ9jZwd4erVpBLoePz8OSkk8dHBycnJzkcrmrq6tcLndycsrMzNy1a5etrW3Pnj0vXbrUv39/C36a52ogVWgKwfr000/T0tK6desWFRUFIDs7W5jpfuPGjQamqpqjI6ZMwYwZT5dcuoQ+fURtrgF8fBrZdv72G+7cqeeN/fvrLl7cUG+Z7u7uL7/88qZNm9LS0k6ePCl6m0Vn5Z339PR0f3//ioqKEydOCDN5jBkz5uDBgxMnTtyzZ4+Zhc+bh02bRLip1yjCtrNm5/G6X4VFRcjPh1aL4mKUl0OjQWEhtFpotTkq1b/Ly8uLi4u1Wq1ardZoNKmpqS4uLlu2bFEqlcIJpISEBOHwsEmz3P5eHTqdTgjTe++9Jyz59ttvAbi4uNy/f9/88nftIoA8PcWf8LgB1Z3Hp0/Xzx5qzmGEcP7l3XffFZ6uWbMGQN++fZv+6RhrBit1924Hubxdu3bCaVy1Wi2cINm6daso5VdVkb8/AfSPf4hSnhESEkgiobZtyfj53p6RlZWlUCikUun169eJqKysTOjU0PSnkLVesB4+JDe38m7dTv3738KC9957D8CQIUNE/HM8cIAAatuWLHkrkEZD3bsTQKLcJjJ79mwAwjDJRLRp0ya8CPeRWy9YkyYRQCEhwrOkpCSJRKJQKK5duyZuPcINJ6tXi1tqQxYvJoB69TLr9qlqOTk5wpCQFy9eJKLKykofHx8A27dvF6F0ZqwUrCNHCCAHBxJ6jVZUaAYP/nzAgJpTT4klKYkAcnEhkaZnb8Qvv5BcTjY29MMPopUp3DYY8uSPUBjP3dPT07TBqi3DGsEqLSVvbwLo88/1S5YvJ4B69Khi85MaOZIAejJhFkNVVfoN5Ny5YhZbUFDg6uoK4NSpU0RUVVUlDOS3bdMmMasRlTWCtXAhAeTvr/+quHmT7OxIIiEzBjhs2JUrJJGQvT3dvcuoBr2NGwmg9u1JpRK55JUrVwLo16+fsAOacPDg/wUF6V56ydyjA2YsHqyUFJLLSSqlK1eIiHQ6Gj6cAGI8Hunbb1NAwMPo6Fh2VeTkkFJJALE4YisuLhaG53w6gUNgIAH0ySfiVyYGywarqooGDCCAPvpIv2TrVv3krYxnVk1LyxSGlTdtTnZDzJ9/RCLRjR3LqHjaumHDsaFDtYMGkdDPPTFRv/PYJO8jt2yw4uL0pyyFmQTy8qhNGwLom28sULkwVHPNCRBEdODAAQADBoQy/LatqKDOnZ/5cQUHE0DR0cyqNJ1lg6XV0tq1VN0bf+JEAujJiL+s3blzx9bW1sbGRvR7EIqKijp16gRgw4YN4pZc27/+pb9/VLjH7/Jl/c5j07uP3HrnsY4efeaMg0VERkYCGCv215VQbEBAwOPHj8UtubbHj8nXlwDavFm/RJju8f332dZrPOsFa/9+cnenzz6zZJ25ubnCYAcijvhz6dIlqVQqk8l++uknscpsSHy8foT/0lIiohs3SCYjuZyY7TuaxlLB0ukoOprmzKGICIqKIuGiTX4+Wfy6RExMDICgoCDziyotLa2srPzd734HINpiOzo6HfXrRwD99a/6JdOmiTPmv6gs1W1mzx5kZSEmBgDWroWnJyZNskS9dRQWFnp7excUFBw/fnzkyJHVy3U6XWFhoUqlKiwsVKvVhYWFNR9UPxZWEJ5qtdqAgIDLly97eXmlpqYK90VawtGjCA1F69bIyoKzM+7cQY8e8PVFcjKazoCuFgrwokV06pT+cWIiLVpkoXrrs3btWgBubm6DBg3q1atXp06dhO9Hkx0/ftzSn2HYMGE0Bf3TK1fIIvfaG85Swdq16+mpvHXraPduC9Vbn8TERFtbW9NnO37WJDMn9jPNuXMEUPfuxPpwwVSW+iokQnQ0ioogkcDJCevWQaTfq7EeP37cr1+/q1evhoSE9O7dOzMzMyMjIzMzs6ioyITSJBLJw4cPTZu1xlx792L0aNjZYckSqNWQSODsjDVrrPWDraWp3FdoMevWrYuOjvb09Lx27VrNvaLc3FwhZALhcX5+fsOlOTo6lpSUMG5yg5rMzmst1r+ZwpJ+/fXXVatWAdi0aVOtfW13d3d3d3dhoNhqarW6Zs6E/x88eFC9gq+vr2Va/lw//4yQEP3jgQNx+DAPlhXMnTu3tLT0j3/84+uvv27I+kqlsm/fvsJoBdVKS0uFkN27d2/atGlsWmqwV17BhQsYNgwAkpPh72/l9jzRgr4Kd+/ePWXKFDc3t7S0NOvsFbHQZHZea2kpwSooKPD19c3Nzd22bduMmncecmzYWLsBFrJw4cLc3NygoKDnDmLBiapFbLESExOHDRumUCiuXr1q/d3tlqH5b7EqKioiIiKIKCYmhqfKYpp/sD755JO0tLTu3bsvWrTI2m1pQZr5V+HNmzf9/f0rKyuTkpIGDx5s7ea0IM15i6XT6WbOnFlRUTFr1iyeKgtrzlus2NjYOXPmeHh4XL9+Xbgvj7OYZhushw8f+vn5qVSq7777ThhEmrOkZvtVGBkZqVKpQkNDeaqsonlusY4cOTJq1CgHB4fU1NTOnTtbuzktkbUvQtcd7o7IzA5GZWVlwrjLq1ev5qmyFmsHq65vv4WTE9asAYC1a7F7NyIj4egIhQJKJWSy6hFhk7p2/SY/X6lUKhQKR0dHR0dHhUKhVCr37Nlz+/Ztf3//Dz74wNofpuVqAsGqNfJrrQ5G+/ZBpYJKVfd994OCYpOS6i53dXV1cnKKi4uTyZrAp2upmsCPvtao2bU6GAUEoKAAJSXQaqFSQatFSYkwIqyPVvvPSZMKCws1Gk3NAWE9PDxWrlypVCqt+Jm4JhCsWiZPRnQ0IiL0HYz+/GdIJKjvLFQ/oJ/lm8cZpnkeFXJW12zPY3HWxYPFMcGDxTHBg8UxwYPFMcGDxTHBg8UxwYPFMcGDxTHBg8UxwYPFMcGDxTHBg8UxwYPFMcGDxTHBg8UxwYPFMcGDxTHBg8UxwYPFMcGDxTHBg8UxwYPFMcGDxTHBg8UxwYPFMcGDxTHBg8UxwYPFMcGDxTHBg8UxwYPFMcGDxTHBg8UxwYPFMcGDxTHBg8UxwYPFMcGDxTHBg8UxwYPFMcGDxTHBg8UxwYPFMcGDxTHBg8UxwYPFMcGDxTHx/3PsjAyHTmfWAAAAAElFTkSuQmCC\" alt=\"Mol\"/></td>\n",
       "    </tr>\n",
       "    <tr>\n",
       "      <th>63517</th>\n",
       "      <td>O=C(NC[C@@H](CO)NC(=O)c1cnccn1)c1cnccn1</td>\n",
       "      <td>ZINC000680525179</td>\n",
       "      <td>0</td>\n",
       "      <td>0.008454</td>\n",
       "      <td>0.991546</td>\n",
       "      <td><img src=\"data:image/png;base64,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\" alt=\"Mol\"/></td>\n",
       "    </tr>\n",
       "    <tr>\n",
       "      <th>12672</th>\n",
       "      <td>Cn1nnc2cc(C(=O)N[C@@H](CO)CN3CCOCC3)cnc21</td>\n",
       "      <td>ZINC000339212693</td>\n",
       "      <td>0</td>\n",
       "      <td>0.038073</td>\n",
       "      <td>0.961927</td>\n",
       "      <td><img src=\"data:image/png;base64,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\" alt=\"Mol\"/></td>\n",
       "    </tr>\n",
       "    <tr>\n",
       "      <th>12673</th>\n",
       "      <td>Cn1nnc2cc(C(=O)N[C@H](CO)CN3CCOCC3)cnc21</td>\n",
       "      <td>ZINC000339212694</td>\n",
       "      <td>0</td>\n",
       "      <td>0.038073</td>\n",
       "      <td>0.961927</td>\n",
       "      <td><img src=\"data:image/png;base64,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\" alt=\"Mol\"/></td>\n",
       "    </tr>\n",
       "    <tr>\n",
       "      <th>21122</th>\n",
       "      <td>O=C(NCCNc1ccc(C(=O)NCCO)nn1)c1cc[nH]n1</td>\n",
       "      <td>ZINC000355577849</td>\n",
       "      <td>0</td>\n",
       "      <td>0.038931</td>\n",
       "      <td>0.961069</td>\n",
       "      <td><img src=\"data:image/png;base64,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\" alt=\"Mol\"/></td>\n",
       "    </tr>\n",
       "  </tbody>\n",
       "</table>\n",
       "</div>"
      ],
      "text/plain": [
       "                                          SMILES              Name  Val  \\\n",
       "55110    Cn1cncc1C(=O)NC[C@@H](CO)NC(=O)c1cncn1C  ZINC000644062250    0   \n",
       "63517    O=C(NC[C@@H](CO)NC(=O)c1cnccn1)c1cnccn1  ZINC000680525179    0   \n",
       "12672  Cn1nnc2cc(C(=O)N[C@@H](CO)CN3CCOCC3)cnc21  ZINC000339212693    0   \n",
       "12673   Cn1nnc2cc(C(=O)N[C@H](CO)CN3CCOCC3)cnc21  ZINC000339212694    0   \n",
       "21122     O=C(NCCNc1ccc(C(=O)NCCO)nn1)c1cc[nH]n1  ZINC000355577849    0   \n",
       "\n",
       "            Neg       Pos                                                Mol  \n",
       "55110  0.004964  0.995036  <img src=\"data:image/png;base64,iVBORw0KGgoAAA...  \n",
       "63517  0.008454  0.991546  <img src=\"data:image/png;base64,iVBORw0KGgoAAA...  \n",
       "12672  0.038073  0.961927  <img src=\"data:image/png;base64,iVBORw0KGgoAAA...  \n",
       "12673  0.038073  0.961927  <img src=\"data:image/png;base64,iVBORw0KGgoAAA...  \n",
       "21122  0.038931  0.961069  <img src=\"data:image/png;base64,iVBORw0KGgoAAA...  "
      ]
     },
     "execution_count": 25,
     "metadata": {},
     "output_type": "execute_result"
    }
   ],
   "source": [
    "combo_df.head()"
   ]
  },
  {
   "cell_type": "markdown",
   "metadata": {},
   "source": [
    "Based on what we see above, it looks like many of the hits are similar.  Let's look at a few more molecules. "
   ]
  },
  {
   "cell_type": "code",
   "execution_count": 26,
   "metadata": {},
   "outputs": [
    {
     "data": {
      "image/png": "[encoded data removed]",
      "text/plain": [
       "<PIL.PngImagePlugin.PngImageFile image mode=RGB size=1000x400 at 0x7F04E7D0A1D0>"
      ]
     },
     "execution_count": 26,
     "metadata": {},
     "output_type": "execute_result"
    }
   ],
   "source": [
    "Draw.MolsToGridImage(combo_df.Mol[:10],molsPerRow=5,legends=[\"%.2f\" % x for x in combo_df.Pos[:10]])"
   ]
  },
  {
   "cell_type": "markdown",
   "metadata": {},
   "source": [
    "Indeed many of the molecules are very similar and might end up being redundant in our screen.  One way of being more efficient with our screen would be to cluster the molecules and only screen the highest scoring molecule in each cluster. The RDKit has an implementation of the Butina clustering method, one of the most highly used methods in Cheminformatics. A small amount of code is necessary to cluster a set of molecules.  The only parameter required for Butina clustering is the cluster cutoff.  If the Tanimoto similarity of two molecules is greater than the cutoff, the molecules are put into the same cluster.  If the similarity is less than the cutoff the molecules are put into different clusters. "
   ]
  },
  {
   "cell_type": "code",
   "execution_count": 27,
   "metadata": {},
   "outputs": [],
   "source": [
    "def butina_cluster(mol_list,cutoff=0.35):\n",
    "    fp_list = [rdmd.GetMorganFingerprintAsBitVect(m, 3, nBits=2048) for m in mol_list]\n",
    "    dists = []\n",
    "    nfps = len(fp_list)\n",
    "    for i in range(1,nfps):\n",
    "        sims = DataStructs.BulkTanimotoSimilarity(fp_list[i],fp_list[:i])\n",
    "        dists.extend([1-x for x in sims])\n",
    "    mol_clusters = Butina.ClusterData(dists,nfps,cutoff,isDistData=True)\n",
    "    cluster_id_list = [0]*nfps\n",
    "    for idx,cluster in enumerate(mol_clusters,1):\n",
    "        for member in cluster:\n",
    "            cluster_id_list[member] = idx\n",
    "    return cluster_id_list"
   ]
  },
  {
   "cell_type": "markdown",
   "metadata": {},
   "source": [
    "Before clustering, we will create a new dataframe with only the top 100 scoring molecules. Since combo_df is already sorted, we only have to use the \"head\" function to select the first 100 rows in the dataframe. "
   ]
  },
  {
   "cell_type": "code",
   "execution_count": 28,
   "metadata": {},
   "outputs": [],
   "source": [
    "best_100_df = combo_df.head(100).copy()"
   ]
  },
  {
   "cell_type": "markdown",
   "metadata": {},
   "source": [
    "We can then create a new column containing the cluster identifier for each compound."
   ]
  },
  {
   "cell_type": "code",
   "execution_count": 29,
   "metadata": {},
   "outputs": [],
   "source": [
    "best_100_df[\"Cluster\"] = butina_cluster(best_100_df.Mol)"
   ]
  },
  {
   "cell_type": "code",
   "execution_count": 30,
   "metadata": {},
   "outputs": [
    {
     "data": {
      "text/html": [
       "<div>\n",
       "<style scoped>\n",
       "    .dataframe tbody tr th:only-of-type {\n",
       "        vertical-align: middle;\n",
       "    }\n",
       "\n",
       "    .dataframe tbody tr th {\n",
       "        vertical-align: top;\n",
       "    }\n",
       "\n",
       "    .dataframe thead th {\n",
       "        text-align: right;\n",
       "    }\n",
       "</style>\n",
       "<table border=\"1\" class=\"dataframe\">\n",
       "  <thead>\n",
       "    <tr style=\"text-align: right;\">\n",
       "      <th></th>\n",
       "      <th>SMILES</th>\n",
       "      <th>Name</th>\n",
       "      <th>Val</th>\n",
       "      <th>Neg</th>\n",
       "      <th>Pos</th>\n",
       "      <th>Mol</th>\n",
       "      <th>Cluster</th>\n",
       "    </tr>\n",
       "  </thead>\n",
       "  <tbody>\n",
       "    <tr>\n",
       "      <th>55110</th>\n",
       "      <td>Cn1cncc1C(=O)NC[C@@H](CO)NC(=O)c1cncn1C</td>\n",
       "      <td>ZINC000644062250</td>\n",
       "      <td>0</td>\n",
       "      <td>0.004964</td>\n",
       "      <td>0.995036</td>\n",
       "      <td><img src=\"data:image/png;base64,iVBORw0KGgoAAAANSUhEUgAAAMgAAADICAIAAAAiOjnJAAAABmJLR0QA/wD/AP+gvaeTAAAZwklEQVR4nO3deVhTV94H8G/IwioEVEStDwhuoC1OFRUXHhecgrVqa3HU0SrWqlSLteMISse9VTvTeZyqHdGRqtXa4tTRUccFN9AqLq3lLYoioEVFC0LCHojk9/5xIyIgZLknQTifx8cnubk55wS+3Nzl3HMkRASOE5uNtRvANU88WBwTPFgcEzxYHBM8WBwTPFgcEzxYHBM8WBwTPFgcEzxYHBM8WBwTPFgcEzxYHBM8WBwTPFgcEzxYHBM8WBwTPFgcEzxYHBM8WBwTPFgcEzxYHBM8WBwTPFgcEzxYHBM8WBwTPFgcEzxYHBM8WBwTPFgcEzxYHBM8WBwTPFgcEzxYHBM8WBwTPFgcEzxYHBM8WBwTPFgcEzxYHBM8WBwTPFgcEzxYHBM8WBwTPFgcEzxYHBM8WBwTPFgcEzxYHBMypqUfPXrUy8tLp9P5+fkxrYhralhtsZKTk0eMGBEaGhoSEhIQEHDy5ElGFXFNk/jBSklJeeONNwIDA0+dOtW6dWt3d/eysrIxY8YcP35c9Lq4povEc/v27VmzZkmlUgCOjo5RUVEqlUqn082bNw+AQqHYv3+/iNVxTZk4wbp7996sWbPkcjkAOzu7Dz/8MDc3t/pVnU43f/58IVv79u0TpUbOQKdPk7Mz3btHRDRihOXqNTdY+fkUFUUDBiQAsLGxCQsLy8zMrH61rKys+vGSJUsASKXSXbt2mVkpZ7jTp2n6dAoPJ3pRglVURCtWkLMzASSR0Lx5q27cuFH9al5eXlRUlIeHR0FBQfXCpUuXCtnasWOHWa3mDHb6NK1aRTExlJTU5INVUUGxseThQQABFBxMV648fVWlUi1ZssTR0VHYhu3du7fme5ctWwZg6NDvvvrKvIZzhhGCVVJCo0fT0KGUl0fHj1uiXuOCVVVF8fHUubM+UgMG0KlTT18tLS1dv369u7u7cFgQHBx89erVuoVs3HhWIiEbG4qNNbPx3HNptfThh5ScrA8WEX37LTk40NSpBFBYGP32G9sGGBGs4mLq0UMfKX9/OnTo6UuVlRQbS4GBqcIh4aBBgxITExsoatMmkkhIIqH1601uOfdcBQUUHEwAeXlRZeUzL332GTk4EECtW9NXX5FOx6oNDQWr7gFFWBh5eVFsLD1+rF+nqop27ny6DZsy5ZOEhARDKt68mWxsCKDVq837BNyzbt0iX18CqE0bqvevOyuLQkL0v68hQygtjUkzGglWrQOKR49Iq326QkIC9e6tb6KvL8XHG/cXsHWrPlsrVpjSdK6u48fJ1ZUAeuUVunOnoTXj48ndnQCSyykqijQakVvSSLAaOKA4eVIfKS8v2r796TbMKLt3k0xGAEVFmfL2WvLy8k6ePLlhw4bTp0+LUNyLJjaW5HIC6PXXqbDwuatVfznm51N4OEkkBFDPnnThwnURG9N4sKoPKOoaN442bKCKCrNaUJ2tzZuNe2NhYeGVK1d27NgRFRU1evRob2/v6ssJERERZrXpRaPVUmSk/u88MpKqqp675u7d1K3bM4dcSUnk60uBgdkSiWTq1KmPHj0SpUmNB0tojb29KNXVb+9e6tePapzwqkd5Of30E+3cSYsW0ahRNHr0obqXp1xcXAYOHDhr1qzvv/+eYXObmPz8/KlTP7K11djZ0e7djaw8eDABZGND779ParV+YXk5rV69SaFQAGjfvn18fLz5rWr8qPDePbK1pY4dza+rIVVVtY8VSkspPp6WLqXx46lbN5JK9X+Rwr/OnW8oFAo/P7+wsLBly5bFx8enpqbq2B3kNFVpaWldu3YFMGrU/OTkxtevrKS1a8nWlgDy8KCaJ6rT09OHDRsm/ImOGjXqTsP7aI1pPFhVVeTkRADl55tTUeNqHSsUFDyTJLmc/PxowgRauZK+/57S03WPTduta0aOHTumVCoB+Pv7G5WD1FQaNEj/g50167fs7GxhuU6n27FjR+vWrQE4ODisXbvW5B+yQeex+vUjgM6eNa0KQ9U9Vpg2jRYvpm++oZQUc/fkmp/Y2Fjhqv/48eNLSkqMfbtORzt2kIeHrkuXsbUylJOTExYWJmy6+vTpk5GRYULzDArWjBkE0D//aUL5Rmj0WIETaLVaoSeSRCKJioqqamBfvTE5Oarx48cLGQoICKh5peTw4cMvvfRSq1atTp48aULJBgXr888JoHnzTCjfCMeOPXPxgatXfn7+8OHDAdja2u7cuVOUMg8dOuTp6QlAJpNFRkYWFxcLy7ds2QLgjTfeMKFMg4J17BgBzLcir71GoaGUlcW2lhfd8uXLAXTo0OHSpUsiFltUVDR//nzhityJEyeEheHh4QD+/ve/m1CgQcG6f19/iYCd5GQCyMmJ8vIY1vKi0+l0Q4YMAXDu3DkW5V+6dGn58uXVT728vADU25OgUYZehG7dmgB68MCEKgwyahQBtGQJq/KbDWErEvXkSkVOTs6KFSu2bNkiekW//vorADc3N9P24QwNVlAQAWTY9WWj/fgjSSTk6Eg1+jNz9Tt//jyANm3aaDQaIjp8+DAAb29vc3bh6xUXFwfgzTffNO3tht6l06dPhb9/4Z07WQaub5QVK0CEefPQti2L4puVwMDA3r17P3r06L///S+AkJAQLy+vrKysU6dOiVvR6dOnAVSfMjWWocHq0mVbSory4sU1plXTgJ9/xsGDcHDARx+JXnbzNGPGDABbt24FYGNjIzwVjuBElJiYCDOCZehXoVDNgAEDTNswNuCttwigP/1J9IKbLbVa7eDgIJFIbt26RUQ5OTlyuVwul+fk5IhVxa1btwC0bdvW5Ktkhm6xXn75ZQCpqalEZGKE63PtGvbvh50d31wZwcXFJSwsjJ7sBrVv337UqFFarXbnzp1iVSF8Dw4dOlQikZhYhOEZ7NChA4Dbt2+bFuF6zZv3UOjpwRnlhx9+ANCuXbvKykoiOnToEETdhZ86VfPKK0nbt5t+qsyIYP3+978HcPDgweolhw8f3r9///Xr1zUmdUC8du2ajY1Nnz4f3Lsn8hFNS+Dv7w9AuAmqqqpKOHVefW7TTB06EGBWr2Ujxm7o1asXgNTU1OolK1euHDdunJ+fn52dnZub2+DBg2fPnr1u3bq9e/f++OOP5eXlDRe4evVqnU4XGEgdO/LRlIxW7y688NRMN24gJwft2qF7dzNKMTyD27ZtAzBlypTqJR9//HFoaGjXrl2Fy+y1yGSyLl26hIaGRkZGbtiw4ejRo9UXoYgoPT1dKpXK5XIz+/20WCqVqtYuvEwmUygUv5l9Y9eXXxJAkyaZVYgRwbp48SKA3r17131Jq9VmZmYmJCTExsZGRUWFhYX5+fkJF55qEn4EgilTpgCYM2eOWc1v2d555x0AS55crxgzZgyAdevWmVlsWBgBZObJfCOCVVJSYmNjI5fLExISsrOzGz0QraioSEtLO3DgwN/+9rfZs2ePHDlS++QWn4yMDJlMJpfLs/g1ZzOcO3cOgIeHh7ALf/DgQQA+Pj7m9KTV6ahdOwKoxkbAFMbdCR0REdGmTRth86NQKLy9vYODgyMjI2NjYxMSEjIzMw38SNOnTwcwc+ZMk9rMPSXs+Ap9/Kt34U3rQSX45RcCqEMHcxtm9NgNERERQ4YMadeuXb17bK1atXr11VcnTJgQExOzffv28+fP59XprpCZmSmTyaRSaXp6urnNb/HWr18P4LXXXhOeCp1qJk6caHKBX3xBAE2dam7DJGTqCc+ioqKMjIxbT6Snp2dkZDx69KjumkqlsusT3bp1i4+PP3DgQHh4uHB+jzOHWq3u2LFjeXn5rVu3fHx87t275+XlJZVK7969Wz2IhlHeegv/+Q/i4hAeblbDTA9WvdRqdWZmZlYNqampDx8+rLmOvb19ZWXl9evXu3XrJmLVLdY777zz9ddfx8TErF69GkBUVFTXrl0nT57s4OBgQmlTp+LAAaSkoHNns1olcrDqlZeXl5GRkZ6eLmzbTpw4UVBQsG/fvjfffJN11S3B2bNng4KCPDw8srOz6z3vY6zHjyEzfzRtc79Ljbdx40YA3bt319YcB4IzQ8+ePQGYMwyn6CNKWmKLVYtWq+3Ro0dWVtaOHTuEMzGcmdavX79gwYKQkJAjR47UXK5Wq9VqtUqlUqvVJSWv5Oa2VquhUun/1Xy8ahUuXIBEgrg4BAfjxAlzm2SFYAHYuXPntGnTPD09b968aWtra/kGNDPVu/ADBw7UaDRCklQqVc1fbkDAwcuXRz+vhM8+Q0UFNBq89hpWrHhhg6XT6V599dWUlJSNGzfOnTvX8g1oZsrKyjw9Pe3t7e/evVtzuYuLi6urq6urq1Kp7NVraVnZUKUSrq5wdUX1A+HxL78gORkLFmDiRJSU4PRps9skwtepSfbt2wfA3d29qKjIWm1oNhYuXAiga9euR44cuXLlSkZGRn5+vlHn32uNKJmbS3/6U+3RAI1itWAR0YABAwB8+umnVmxDM5CSkiKXy21sbM6fPy9WmQMHEkCzZ5tegjWDdebMGQBKpTKf9XgjzVdVVVVgYCCA+fPni1jsjz/qhyr94gsTS7BmsIhoxIgRABYvXmzdZry4hEs6nTp1En2PYu9ekkhIKn1mFGPDWTlYly9flkgk9vb294RTKJwxsrOzW7VqBYDRJEUff0wAOTtTaqrR77VysIho3LhxAOaxHnKkORo7diyAt99+m1H5Oh394Q/CMHdGD31g/WDduHFD6JtVcxIerlF79+4F4OzszHRjX1ZGAQEEUFCQcUOUWT9Y9KQn5LRp06zdkBdGYWFhx44dAXz55Zes68rO1k9vs3SpEcMqN4lg3b5929bWViqVpprwZd4iRUREAOjfv7/oQzbUKzmZRoz4D4CNGzca+JYmESwiEs6/mzwERYuSnJxsY2Mjk8l+/vlni1UaHx8vkUikUun//vc/Q9ZvKsF68OCBMGHYhQsXrN2WJk2r1Qp3FMbExFi4amHGSVdX15s3bza6clMJFhFFR0cDCA4OtnZDmjShN1+XLl1qTjJqGTqdbsKECQC6d+9e0PCo/E0qWCqVys3NDeLdztv8pKen29vbAzBwJizRlZWV9e3bF0DNe67q1YSClZCQIEwdHRAQ0AKnAjBEcHCw1Q+f79+/L4zi0fCpR+t0m6lLpVL5+vqqVKpWrVqpVCpvb28XFxcXFxe5XO7s7GxnZ2dvb+/s7CyX/9XFBba2cHCAkxPkcri6Qi5HQQGmT8f16+jYUd9P7cwZnDmD5csBYPBgnDtn5Q9ovu3bt4eHh7du3TotLa2tVYeou3DhwvDhwzUaTVxcXPjzbrqwVNAb8e677wIYMmTIkSNHntdDy97evuZcFTX/ffBB7RnwTp+mZcv0hQ8aZK2PJZpHjx4JYRJrCG4z7dy5MzAw8MHzB6U1v9O8CJKSkuLi4hQKxebNm/38/Pr06XPmzBkfH5+ZM2fKZLKSkpKysrKKioqSEo1Gg6IiaDQoL0dxMbRaqNWoqEDbtnB3h0aDs2efFnvoEIT7gzIzLfdZzpzB2LHibzsXLFiQl5c3dOhQYWgCq5s6derkyZPrjqJQzfrBqqysFEZwWLJkiZ+fH4Cvv/762rVrxcXFw4YNc3JyMqSQM2dw7hwWL8bEiaiq0i8cPVr/66wxQI4lvPUW/vIXNHDT5LhxSEmBXA5nZ9jZwd4erVpBLoePz8OSkk8dHBycnJzkcrmrq6tcLndycsrMzNy1a5etrW3Pnj0vXbrUv39/C36a52ogVWgKwfr000/T0tK6desWFRUFIDs7W5jpfuPGjQamqpqjI6ZMwYwZT5dcuoQ+fURtrgF8fBrZdv72G+7cqeeN/fvrLl7cUG+Z7u7uL7/88qZNm9LS0k6ePCl6m0Vn5Z339PR0f3//ioqKEydOCDN5jBkz5uDBgxMnTtyzZ4+Zhc+bh02bRLip1yjCtrNm5/G6X4VFRcjPh1aL4mKUl0OjQWEhtFpotTkq1b/Ly8uLi4u1Wq1ardZoNKmpqS4uLlu2bFEqlcIJpISEBOHwsEmz3P5eHTqdTgjTe++9Jyz59ttvAbi4uNy/f9/88nftIoA8PcWf8LgB1Z3Hp0/Xzx5qzmGEcP7l3XffFZ6uWbMGQN++fZv+6RhrBit1924Hubxdu3bCaVy1Wi2cINm6daso5VdVkb8/AfSPf4hSnhESEkgiobZtyfj53p6RlZWlUCikUun169eJqKysTOjU0PSnkLVesB4+JDe38m7dTv3738KC9957D8CQIUNE/HM8cIAAatuWLHkrkEZD3bsTQKLcJjJ79mwAwjDJRLRp0ya8CPeRWy9YkyYRQCEhwrOkpCSJRKJQKK5duyZuPcINJ6tXi1tqQxYvJoB69TLr9qlqOTk5wpCQFy9eJKLKykofHx8A27dvF6F0ZqwUrCNHCCAHBxJ6jVZUaAYP/nzAgJpTT4klKYkAcnEhkaZnb8Qvv5BcTjY29MMPopUp3DYY8uSPUBjP3dPT07TBqi3DGsEqLSVvbwLo88/1S5YvJ4B69Khi85MaOZIAejJhFkNVVfoN5Ny5YhZbUFDg6uoK4NSpU0RUVVUlDOS3bdMmMasRlTWCtXAhAeTvr/+quHmT7OxIIiEzBjhs2JUrJJGQvT3dvcuoBr2NGwmg9u1JpRK55JUrVwLo16+fsAOacPDg/wUF6V56ydyjA2YsHqyUFJLLSSqlK1eIiHQ6Gj6cAGI8Hunbb1NAwMPo6Fh2VeTkkFJJALE4YisuLhaG53w6gUNgIAH0ySfiVyYGywarqooGDCCAPvpIv2TrVv3krYxnVk1LyxSGlTdtTnZDzJ9/RCLRjR3LqHjaumHDsaFDtYMGkdDPPTFRv/PYJO8jt2yw4uL0pyyFmQTy8qhNGwLom28sULkwVHPNCRBEdODAAQADBoQy/LatqKDOnZ/5cQUHE0DR0cyqNJ1lg6XV0tq1VN0bf+JEAujJiL+s3blzx9bW1sbGRvR7EIqKijp16gRgw4YN4pZc27/+pb9/VLjH7/Jl/c5j07uP3HrnsY4efeaMg0VERkYCGCv215VQbEBAwOPHj8UtubbHj8nXlwDavFm/RJju8f332dZrPOsFa/9+cnenzz6zZJ25ubnCYAcijvhz6dIlqVQqk8l++uknscpsSHy8foT/0lIiohs3SCYjuZyY7TuaxlLB0ukoOprmzKGICIqKIuGiTX4+Wfy6RExMDICgoCDziyotLa2srPzd734HINpiOzo6HfXrRwD99a/6JdOmiTPmv6gs1W1mzx5kZSEmBgDWroWnJyZNskS9dRQWFnp7excUFBw/fnzkyJHVy3U6XWFhoUqlKiwsVKvVhYWFNR9UPxZWEJ5qtdqAgIDLly97eXmlpqYK90VawtGjCA1F69bIyoKzM+7cQY8e8PVFcjKazoCuFgrwokV06pT+cWIiLVpkoXrrs3btWgBubm6DBg3q1atXp06dhO9Hkx0/ftzSn2HYMGE0Bf3TK1fIIvfaG85Swdq16+mpvHXraPduC9Vbn8TERFtbW9NnO37WJDMn9jPNuXMEUPfuxPpwwVSW+iokQnQ0ioogkcDJCevWQaTfq7EeP37cr1+/q1evhoSE9O7dOzMzMyMjIzMzs6ioyITSJBLJw4cPTZu1xlx792L0aNjZYckSqNWQSODsjDVrrPWDraWp3FdoMevWrYuOjvb09Lx27VrNvaLc3FwhZALhcX5+fsOlOTo6lpSUMG5yg5rMzmst1r+ZwpJ+/fXXVatWAdi0aVOtfW13d3d3d3dhoNhqarW6Zs6E/x88eFC9gq+vr2Va/lw//4yQEP3jgQNx+DAPlhXMnTu3tLT0j3/84+uvv27I+kqlsm/fvsJoBdVKS0uFkN27d2/atGlsWmqwV17BhQsYNgwAkpPh72/l9jzRgr4Kd+/ePWXKFDc3t7S0NOvsFbHQZHZea2kpwSooKPD19c3Nzd22bduMmncecmzYWLsBFrJw4cLc3NygoKDnDmLBiapFbLESExOHDRumUCiuXr1q/d3tlqH5b7EqKioiIiKIKCYmhqfKYpp/sD755JO0tLTu3bsvWrTI2m1pQZr5V+HNmzf9/f0rKyuTkpIGDx5s7ea0IM15i6XT6WbOnFlRUTFr1iyeKgtrzlus2NjYOXPmeHh4XL9+Xbgvj7OYZhushw8f+vn5qVSq7777ThhEmrOkZvtVGBkZqVKpQkNDeaqsonlusY4cOTJq1CgHB4fU1NTOnTtbuzktkbUvQtcd7o7IzA5GZWVlwrjLq1ev5qmyFmsHq65vv4WTE9asAYC1a7F7NyIj4egIhQJKJWSy6hFhk7p2/SY/X6lUKhQKR0dHR0dHhUKhVCr37Nlz+/Ztf3//Dz74wNofpuVqAsGqNfJrrQ5G+/ZBpYJKVfd994OCYpOS6i53dXV1cnKKi4uTyZrAp2upmsCPvtao2bU6GAUEoKAAJSXQaqFSQatFSYkwIqyPVvvPSZMKCws1Gk3NAWE9PDxWrlypVCqt+Jm4JhCsWiZPRnQ0IiL0HYz+/GdIJKjvLFQ/oJ/lm8cZpnkeFXJW12zPY3HWxYPFMcGDxTHBg8UxwYPFMcGDxTHBg8UxwYPFMcGDxTHBg8UxwYPFMcGDxTHBg8UxwYPFMcGDxTHBg8UxwYPFMcGDxTHBg8UxwYPFMcGDxTHBg8UxwYPFMcGDxTHBg8UxwYPFMcGDxTHBg8UxwYPFMcGDxTHBg8UxwYPFMcGDxTHBg8UxwYPFMcGDxTHBg8UxwYPFMcGDxTHBg8UxwYPFMcGDxTHBg8UxwYPFMcGDxTHBg8UxwYPFMcGDxTHx/3PsjAyHTmfWAAAAAElFTkSuQmCC\" alt=\"Mol\"/></td>\n",
       "      <td>49</td>\n",
       "    </tr>\n",
       "    <tr>\n",
       "      <th>63517</th>\n",
       "      <td>O=C(NC[C@@H](CO)NC(=O)c1cnccn1)c1cnccn1</td>\n",
       "      <td>ZINC000680525179</td>\n",
       "      <td>0</td>\n",
       "      <td>0.008454</td>\n",
       "      <td>0.991546</td>\n",
       "      <td><img src=\"data:image/png;base64,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\" alt=\"Mol\"/></td>\n",
       "      <td>48</td>\n",
       "    </tr>\n",
       "    <tr>\n",
       "      <th>12672</th>\n",
       "      <td>Cn1nnc2cc(C(=O)N[C@@H](CO)CN3CCOCC3)cnc21</td>\n",
       "      <td>ZINC000339212693</td>\n",
       "      <td>0</td>\n",
       "      <td>0.038073</td>\n",
       "      <td>0.961927</td>\n",
       "      <td><img src=\"data:image/png;base64,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\" alt=\"Mol\"/></td>\n",
       "      <td>27</td>\n",
       "    </tr>\n",
       "    <tr>\n",
       "      <th>12673</th>\n",
       "      <td>Cn1nnc2cc(C(=O)N[C@H](CO)CN3CCOCC3)cnc21</td>\n",
       "      <td>ZINC000339212694</td>\n",
       "      <td>0</td>\n",
       "      <td>0.038073</td>\n",
       "      <td>0.961927</td>\n",
       "      <td><img src=\"data:image/png;base64,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\" alt=\"Mol\"/></td>\n",
       "      <td>27</td>\n",
       "    </tr>\n",
       "    <tr>\n",
       "      <th>21122</th>\n",
       "      <td>O=C(NCCNc1ccc(C(=O)NCCO)nn1)c1cc[nH]n1</td>\n",
       "      <td>ZINC000355577849</td>\n",
       "      <td>0</td>\n",
       "      <td>0.038931</td>\n",
       "      <td>0.961069</td>\n",
       "      <td><img src=\"data:image/png;base64,iVBORw0KGgoAAAANSUhEUgAAAMgAAADICAIAAAAiOjnJAAAABmJLR0QA/wD/AP+gvaeTAAAP6ElEQVR4nO3de1SUdR7H8c8wyEVUvKyaICqkhZqeVDSpJUqx8nhbg9E9CV7qLOVxm7OtxujJFUVdMTmKCwaKkBxc0ilTUjaPqGWrqIhbLoqreediKMpFucnlu388iKI4AwPfGcHv6y8YnueZ3wxvHp7n9wyDioggREuzsvQARNskYQkWEpZgIWEJFhKWYCFhCRYSlmAhYQkWEpZgIWEJFhKWYCFhCRYSlmAhYQkWEpZgIWEJFhKWYCFhCRYSlmAhYQkWEpZgIWEJFhKWYCFhCRYSlmAhYQkWEpZgIWEJFhKWYCFhCRYSlmAhYQkWEpZgIWEJFhKWYCFhCRYSlmAhYQkWEpZgIWEJFhKWYCFhCRYSlmAhYQkWEpZgIWEJFhKWYCFhCRYSlmAhYQkWEpZgIWEJFhKWYCFhCRYSlmAhYQkWEpZgIWEJFhKWYCFhCRYSlmAhYQkWEpZgIWEJFhKWYCFhCRYSlmAhYQkWEpZgIWEJFhKWYCFhCRYSlmAhYQkWEpZgIWEJFhKWYCFhCRbWlh6AeMgPPyAtDQB0OksPpbmasMeaPx8nTiA6GuHhABAZyTWmZ9cvv0Cng4sL8vIsPZTmakJYrq5ITQWAoiKEhyMjA/n5XMN6phFZegQtoGnHWN26IT8fjo74y1/w0ksYNgyDB2PpUly+zDS8Z0ZhIWbOxP/+h/nzcfgwbGwsPaDmamxYRDh1ClOn4vDh2ltu3kRpKTIzsWwZ+vfHm28iNhaFhVwDbeMuXEBCAo4fR0UFoqMRH2/pATUbNc66dQTQzJn1bqyooKQkmjaN7O0JIIDs7MjPjz75hNLSKCqqkdsWRNu3E0BTp9L48QRQUpKlB9RcjdpjHTsGnQ4qFSZPrne7jQ0mT8b27bh1C3o9Jk5EVRXy8+HmVns0Jhrr0iUAcHN78EErZ3y64cYN+Pnh3j18+il8fRtext4eGg00GuTm4tYtHDqEbt1w5UrLDrVNU45S+/XDlStQqeDqaukBNZeRPVZ1dfXixYevX8frr+Pvfze+OScnDBkCAO++++BoTBj1M5A3cuSdLl2gUqFnTzg4WHpEzWUkrCVLlsTEeI0du3bbNlg3ejK1oACffIK4uOYO7tnhm5Ly3IkTSUSq8vKAl1+29HBagKGwkpOTQ0ND1Wp1UNDQXr2Mb6usDAUFKCtDYiI2bUJxcYuN8mlWVPRg6tg0VVVVWVlZVlZWpaWlAFTdu7fk+CzkiWFdvXp11qxZNTU1q1at8vHxacy21q9H164ICUFFBQDY2rbUIJ9GNTXYvx+TJmHAAPTuXXuy8sMPuHu3yZu6evVqVVVV7969s7KyALi1/iN3GAjrwIEDBQUF77zzzoIFC3Jzc8+fP290W3U9te2wcnMREoI+fTBuHPbsQUkJcnLQrRtOn8bEifDwwOnTTdvgpUuXALi5uSkfuLb+I3cYCCs/P7+mpsba2vrEiRNDhgyZPn36vXv3DG+rzYd18iRmzkS/fggORk4OBgzAypX473/Rrx/efRenTsHVFefOwdMT27c3YbN5eXmdOnUqKio6fPgw2soe64kTpNnZ2V26dAGwefPmAQMGAPjss88Mz4mtXHnu97+/EB2d4+19dfjwW8XFVS0962YBf/0rpaXR0qXk7l47CdyuHfn5kV5Pq1aRiwsFBj5Y+O5dmjGjdjGtlu7du2d44+np6YGBge3btwfQrl07AM7OzqmpqbwPySwMzbxv2bIFgKOj486dO9VqtbW19dGjRw0sP2/ePACRkZHW1tYAjD6trUJEBIWHU0QE9ehBvXqRTkcJCfSHP5BaXRvQqFFUU1Nvlfh4srcnb+9jHh4ely9ffnybZWVler3+1VdfVX62raysfHx8NmzY4OHhAcDOzm7z5s3meXR8jFzS8fX1BTB27NigoCAAzz///J07d5608AcffABg06ZNypPV0kO1jIgISkig5cvp9GmqrCRPz9qebGzoj3+kQ4caXuvEiXI3txcAdO/efd++fXW3nzt3TqfTde3aVUmqc+fOWq324sWLyldLS0vnzJkDYMiQj+bOrSkvb+wgy8vLExMTp06dGhcXd/LkyWY94BZiJKwbN2707NkTQHh4+NChQwF8/PHHT1rY398fQGxsLAB7e/uWHqplRERQSQm9/Xbtp59+Sk5OpNNRVpaRFfPz88ePHw9ApVIFBQUlJSX5+PioVColqREjRmzcuLGkpOTxFWNj4/v2rQTIw4Ma2t/Vk52dHRwc3KNHD2Wz1tbWdnZ2MTExTX+gLcz4Rehdu3YBaN++fVJSko2NjUql2rt3b4NLHj16VK/XZ2RkKD+LLT1Uy1i4kP72N7p1q/bTO3eoqtGHjtXV1cuWLbOysrKyqj1J6tChw4cffvjzzz8bXvE//yE3NwKoa1f6/vsGt0wpKaTR0JtvLlK2PHDgwLCwsLlz5yqfBgQENFjtEx08SKGhFBpK69YREUVENGHdhjTq1Q0BAQEARo8eHRISohxg3r59+/HFbt++vW3bNj8/PwAODg5ZRn+oW4NOnQh4EJYJwsLCVCpV165dIyMji4qKGrlWURH5+pKVFf3rX/Vuv3OHQkPJ1bX2N7Kb22V/f/8jR47ULbB161YHBwcltczMzMaOcu1aIqJ//pMWLKB16+qdkpikUWEVFhb26dMHwIoVKzw9PQMDA+/evVv31TNnznz++efe3t7W9y/6qNXqxw8vWqMbNwggR0dT1q2srFyzZs2uXbvi4uIA+Pv7N3ULNTV06FDtaWlUVO2uZO1a6tKFAHJ2puBgunGjgRXPnj07ePBgAB07dtTr9UbuprCQ/vEPUk75t26lkBAic+2xiGj//v0qlapdu3bKiWFZWVlKSopOp3N3d6+buVCr1a+99lpoaOiBAwfqDi90Ol11dXXjB/TI89jsB9gsx44RQMOHm7LuxYsXAbi4uCxevBjAkiVLTBuDcloaFUVLl9buSjZvpuRkMvykFhcXT58+XfkWaLXahs/QMzNJq6UOHQigadMs8KtQocwmODs7T5w40eGhy+89evSYNWuWXq8vLCysW7impka5zghgzJgxeXl5jbyXx59HC0pMJID8/ExZNyUlBYC3t/d7770HYMuWLaaNoe601ITv+MaNG21sbAB4eXnl5OQoN5aXlyckJGyum3BTqWjMGNqzx7ThPUkTwiopKXnhhReUyVIAgwYN0ul0KSkplZWVT1rl4MGDykmli4uL4TkwIsrIoKAgWr/e9OexxUVEnH3lldxlywqNL/qY6OhoAHPmzBk9ejSAn376ydQx1J6WmvaEpKWl9e3bVzkyiY+P1+l03bt3B2CjVle4u1NgIGVkmDYww5oQFhEVFRWlpqbGxMTU5W9UVlaWp6cnAFtb2/Dw8McXqKggvZ58fEilIoD+9KdHn8dTpxo+kjCD999/H0B0dLQJ6+p0OgDLly9X5gKys7NbfHiNlJeXN2bMGGWuu26yIyYmpuShA+UW17SwTFNZWam7/xeYM2bMqDvwv3z58qJFiyZMOKnskjt1onnz6Ndf66176xb160fOzvTQeY8R1dXVKSkpGo0mPDx84cKFBnaoRr3xxhsATDsF0Wg0dbN6dnZ2TTrQbHFVVVUhISFRUVGzZ88+fvy4Ge7RHGEpvv32W+Unxt3dPSYmRqPRKGeRLi5vDBtG0dHU4JT+9evk5VV7ha6h/d0jC19fvny5i4tL3aQRgNdffz03N9e0MSvnwhcuXDBh3REjRgBISEhQzvxNG0DrZb6wiCg9PV35rtvb2wOwsbHRaDQpKSmG16qspPnzSaUilapGqw0rLi5ucMsBAQHKdVwA/fv3Dw0NTU5OdnZ2BvDcc8/9+OOPTR1tRUWFWq1Wq9XKKdXq1auvX7/e+NWVS/hffvklgAkTJjT13ls7s4Z17NgxAE5OTqNGjerYsWOTLrXu2EFvv71G2eGdPn1aubGoqGjjxo1DlJfZ37+a+91339Xcvyx88+bNt956C4CX14XgYCOn6A9LT0+fMWOGg4NDx44dr127pvxG69Wr16EnXR2sr6CgQNllhoWFAdBqtY1/pG2DWcNKTEwE4Ofnp3yz9zTxFPf8+fPK9Up7e/sVK1ZotVrll52yT9LpdFeuXHl8raqqqjVr/q2cGUyZQgUFhu6itLQ6Li5u5MiRdZfelPOpr7/+ety4ccotwcHBRg+Y8vLy5s6d+9FHHylzNOuUM5FniVnDWrFiBYCgoKD+/fsDaMIFh/tKSkpmzZoFoFu3bnUnOPHx8UZforN7d+2Edf/+dP/FBPX8+ivpdPS735G7+3DlBCowMPDIkSMPX0hesmSJctVv0qRJDV7UepyyelLr/wPUpjJrWMrrajZs2KBczC4tLTVtO7GxsTt27NBqtWfPnm38Wlev0iuv0NCh9MjdpqY+mOwAyN9/15YtW8rKypSvPjLTu3XrVuVFL3379k1LSzNwdzk5OaGhoY6Ojh06dMjgmSt6mpk1LL9Jk1QqVXx8vDKDb867VpSVUU7Oo1eN/vzn2jcH0GieOKnx8EzvN998M3z4cOU38ldfffXIktXV1Xv37p08ebLSIoCdO3cyP6ynkYrM+aY5/fqV5+VVxMYeDg8vfekljYX+8jAyEtXVsLVFXh4cHXH2LEaNgq8vOnc2tFZ2dva0adOOHj1qa2u7cuXKa9euffHFFwcPHvTy8lIWKCws1Ov169evz8zMBGBjYzNlypTAwMCxY8fWvQzrGWK+hisqSK0mtZqiogig2bPNd9f1mXz17ZGZ3vT0dOX2h1+6DsDJyUmn01lwqv1pYMawzp0jgFxdadEiAmjZMvPddX3NvPpWN9P74osvLl26dNiwYUpPVlZW48eP3717t2Un2Z8SZgzr++8JoLFjafp0AighwXx33dLOnDkzcOBA3P/Tmkdeui6IyIxvblv3Bj2//FL7Qas1aNCgtLQ0vV7/22+/9enTR6PR2La9v6JsHjMevBcW4swZODpi3z6cOoWwMLSJNykQDTLjHqtzZ9y7h+RkAG3hrRCFQeb9BwJt6O2mhWGW+M8UbeLtpoVh5v3PFC+/jNWrAaBnT7PerzA78868i2eG/JMmwULCEiwkLMFCwhIsJCzBQsISLCQswULCEiwkLMFCwhIsJCzBQsISLCQswULCEiwkLMFCwhIsJCzBQsISLCQswULCEiwkLMFCwhIsJCzBQsISLCQswULCEiwkLMFCwhIsJCzBQsISLCQswULCEiwkLMFCwhIsJCzBQsISLCQswULCEiwkLMFCwhIsJCzBQsISLCQswULCEiwkLMFCwhIsJCzBQsISLCQswULCEiwkLMFCwhIsJCzBQsISLCQswULCEiwkLMFCwhIsJCzBQsISLCQswULCEiwkLMFCwhIsJCzBQsISLCQswULCEiwkLMFCwhIsJCzBQsISLCQswULCEiwkLMFCwhIsJCzB4v/hsFrb789wmgAAAABJRU5ErkJggg==\" alt=\"Mol\"/></td>\n",
       "      <td>47</td>\n",
       "    </tr>\n",
       "  </tbody>\n",
       "</table>\n",
       "</div>"
      ],
      "text/plain": [
       "                                          SMILES              Name  Val  \\\n",
       "55110    Cn1cncc1C(=O)NC[C@@H](CO)NC(=O)c1cncn1C  ZINC000644062250    0   \n",
       "63517    O=C(NC[C@@H](CO)NC(=O)c1cnccn1)c1cnccn1  ZINC000680525179    0   \n",
       "12672  Cn1nnc2cc(C(=O)N[C@@H](CO)CN3CCOCC3)cnc21  ZINC000339212693    0   \n",
       "12673   Cn1nnc2cc(C(=O)N[C@H](CO)CN3CCOCC3)cnc21  ZINC000339212694    0   \n",
       "21122     O=C(NCCNc1ccc(C(=O)NCCO)nn1)c1cc[nH]n1  ZINC000355577849    0   \n",
       "\n",
       "            Neg       Pos                                                Mol  \\\n",
       "55110  0.004964  0.995036  <img src=\"data:image/png;base64,iVBORw0KGgoAAA...   \n",
       "63517  0.008454  0.991546  <img src=\"data:image/png;base64,iVBORw0KGgoAAA...   \n",
       "12672  0.038073  0.961927  <img src=\"data:image/png;base64,iVBORw0KGgoAAA...   \n",
       "12673  0.038073  0.961927  <img src=\"data:image/png;base64,iVBORw0KGgoAAA...   \n",
       "21122  0.038931  0.961069  <img src=\"data:image/png;base64,iVBORw0KGgoAAA...   \n",
       "\n",
       "       Cluster  \n",
       "55110       49  \n",
       "63517       48  \n",
       "12672       27  \n",
       "12673       27  \n",
       "21122       47  "
      ]
     },
     "execution_count": 30,
     "metadata": {},
     "output_type": "execute_result"
    }
   ],
   "source": [
    "best_100_df.head()"
   ]
  },
  {
   "cell_type": "markdown",
   "metadata": {},
   "source": [
    "We can use the \"unique\" function to determine how many unique clusters we have. "
   ]
  },
  {
   "cell_type": "code",
   "execution_count": 32,
   "metadata": {},
   "outputs": [
    {
     "data": {
      "text/plain": [
       "49"
      ]
     },
     "execution_count": 32,
     "metadata": {},
     "output_type": "execute_result"
    }
   ],
   "source": [
    "len(best_100_df.Cluster.unique())"
   ]
  },
  {
   "cell_type": "markdown",
   "metadata": {},
   "source": [
    "Ultimately, we would like to purchase these compounds.  In order to do this, we need need to save a csv file with molecules we plan to purchase.  The \"drop_duplicates\" function can be used to select one molecule per cluster.  By default, the function starts from the top of the table and removes rows with values that have already been seen. "
   ]
  },
  {
   "cell_type": "code",
   "execution_count": 33,
   "metadata": {},
   "outputs": [],
   "source": [
    "best_cluster_rep_df = best_100_df.drop_duplicates(\"Cluster\")"
   ]
  },
  {
   "cell_type": "code",
   "execution_count": 34,
   "metadata": {},
   "outputs": [
    {
     "data": {
      "text/plain": [
       "(49, 7)"
      ]
     },
     "execution_count": 34,
     "metadata": {},
     "output_type": "execute_result"
    }
   ],
   "source": [
    "best_cluster_rep_df.shape"
   ]
  },
  {
   "cell_type": "code",
   "execution_count": 35,
   "metadata": {},
   "outputs": [],
   "source": [
    "best_cluster_rep_df.to_csv(\"best_cluster_represenatives.csv\")"
   ]
  },
  {
   "cell_type": "code",
   "execution_count": null,
   "metadata": {},
   "outputs": [],
   "source": []
  }
 ],
 "metadata": {
  "kernelspec": {
   "display_name": "Python 3",
   "language": "python",
   "name": "python3"
  },
  "language_info": {
   "codemirror_mode": {
    "name": "ipython",
    "version": 3
   },
   "file_extension": ".py",
   "mimetype": "text/x-python",
   "name": "python",
   "nbconvert_exporter": "python",
   "pygments_lexer": "ipython3",
   "version": "3.7.3"
  }
 },
 "nbformat": 4,
 "nbformat_minor": 2
}
