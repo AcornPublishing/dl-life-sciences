{
 "cells": [
  {
   "cell_type": "markdown",
   "metadata": {},
   "source": [
    "Now that we've created a predictive model we can apply this model to a new set of molecules. In many cases, we will build a predictive model based on literature data, then apply that model to a set of molecules that we want to screen.  The molecules we want to screen may come from an internal database or from a commercially available screening collection.  As an example, we will use the predictive model we created to screen a small sample of 100,000 compounds from the ZINC database.  \n",
    "\n",
    "One potential source of difficulty when carrying out a virtual screen is the presence of molecules which have the potential to interfere with biological assays.  Over the last 25 years, many groups have developed sets of computational filters to identify potentially reactive or problematic molecules.  Several of these rule sets, which are encoded as SMARTS strings have been collected by the group that curates the ChEMBL database.  These rule sets have been made avaiable through a Python script called rd_filters.py.  In this example, we will use rd_filters.py to identify potentially problematic molecules in our set of 100,000 molecules from the ZINC database.  \n",
    "\n",
    "**IMPORTANT**  In order to run this notebook you must install the rdfiters script which can be downloaded from https://github.com/PatWalters/rd_filters the script rd_filters must be in your path. \n",
    "\n",
    "The rd_filters script can be called as follows. "
   ]
  },
  {
   "cell_type": "code",
   "execution_count": 12,
   "metadata": {},
   "outputs": [
    {
     "name": "stdout",
     "output_type": "stream",
     "text": [
      "Usage:\r\n",
      "rd_filters filter --in INPUT_FILE --prefix PREFIX [--rules RULES_FILE_NAME] [--alerts ALERT_FILE_NAME][--np NUM_CORES]\r\n",
      "rd_filters template --out TEMPLATE_FILE [--rules RULES_FILE_NAME]\r\n",
      "\r\n",
      "Options:\r\n",
      "--in INPUT_FILE input file name\r\n",
      "--prefix PREFIX prefix for output file names\r\n",
      "--rules RULES_FILE_NAME name of the rules JSON file\r\n",
      "--alerts ALERTS_FILE_NAME name of the structural alerts file\r\n",
      "--np NUM_CORES the number of cpu cores to use (default is all)\r\n",
      "--out TEMPLATE_FILE parameter template file name\r\n"
     ]
    }
   ],
   "source": [
    "!rd_filters -h"
   ]
  },
  {
   "cell_type": "markdown",
   "metadata": {},
   "source": [
    "To call the script on our input file, which is called zinc_100k.smi we can specify the input file and a prefix for output file names. "
   ]
  },
  {
   "cell_type": "code",
   "execution_count": 13,
   "metadata": {},
   "outputs": [
    {
     "name": "stdout",
     "output_type": "stream",
     "text": [
      "using 8 cores\n",
      "Using alerts from Inpharmatica\n",
      "Wrote SMILES for molecules passing filters to zinc.smi\n",
      "Wrote detailed data to zinc.csv\n",
      "68737 of 100000 passed filters 68.7%\n",
      "Elapsed time 36.55 seconds\n"
     ]
    }
   ],
   "source": [
    "!rd_filters filter --in zinc_100k.smi --prefix zinc"
   ]
  },
  {
   "cell_type": "markdown",
   "metadata": {},
   "source": [
    "The output above indicates the following. \n",
    "* The script runs in parallel across multiple cores, the number of cores can be selected with the \"-np\" flag\n",
    "* The script is using the \"Inpharmatica\" set of alerts. It has 7 other alert sets available.  Please see the rd_filters.py documentaiton for more information\n",
    "* SMILES for the molecules passing the filters was written to a file called zinc.smi.  We will use this as the input when we use the predictive model.\n",
    "* Detailed information on which compounds triggered particular structural alerts was written to a file called zinc.csv. \n",
    "* 68% of the structures passed the filters\n",
    "\n",
    "It is informative to take a look at the reasons molecules were rejected.  This can let us know whether we need to adjust any of the filters. "
   ]
  },
  {
   "cell_type": "code",
   "execution_count": 14,
   "metadata": {},
   "outputs": [],
   "source": [
    "import pandas as pd"
   ]
  },
  {
   "cell_type": "code",
   "execution_count": 15,
   "metadata": {},
   "outputs": [],
   "source": [
    "df = pd.read_csv(\"zinc.csv\")"
   ]
  },
  {
   "cell_type": "code",
   "execution_count": 16,
   "metadata": {},
   "outputs": [
    {
     "data": {
      "text/html": [
       "<div>\n",
       "<style scoped>\n",
       "    .dataframe tbody tr th:only-of-type {\n",
       "        vertical-align: middle;\n",
       "    }\n",
       "\n",
       "    .dataframe tbody tr th {\n",
       "        vertical-align: top;\n",
       "    }\n",
       "\n",
       "    .dataframe thead th {\n",
       "        text-align: right;\n",
       "    }\n",
       "</style>\n",
       "<table border=\"1\" class=\"dataframe\">\n",
       "  <thead>\n",
       "    <tr style=\"text-align: right;\">\n",
       "      <th></th>\n",
       "      <th>Unnamed: 0</th>\n",
       "      <th>SMILES</th>\n",
       "      <th>NAME</th>\n",
       "      <th>FILTER</th>\n",
       "      <th>MW</th>\n",
       "      <th>LogP</th>\n",
       "      <th>HBD</th>\n",
       "      <th>HBA</th>\n",
       "      <th>TPSA</th>\n",
       "    </tr>\n",
       "  </thead>\n",
       "  <tbody>\n",
       "    <tr>\n",
       "      <th>0</th>\n",
       "      <td>0</td>\n",
       "      <td>CN(CCO)C[C@@H](O)Cn1cnc2c1c(=O)n(C)c(=O)n2C</td>\n",
       "      <td>ZINC000000000843</td>\n",
       "      <td>Filter82_pyridinium &gt; 0</td>\n",
       "      <td>311.342</td>\n",
       "      <td>-2.2813</td>\n",
       "      <td>2</td>\n",
       "      <td>9</td>\n",
       "      <td>105.52</td>\n",
       "    </tr>\n",
       "    <tr>\n",
       "      <th>1</th>\n",
       "      <td>1</td>\n",
       "      <td>O=c1[nH]c(=O)n([C@@H]2C[C@@H](O)[C@H](CO)O2)cc1Br</td>\n",
       "      <td>ZINC000000001063</td>\n",
       "      <td>Filter9_metal &gt; 0</td>\n",
       "      <td>307.100</td>\n",
       "      <td>-1.0602</td>\n",
       "      <td>3</td>\n",
       "      <td>6</td>\n",
       "      <td>104.55</td>\n",
       "    </tr>\n",
       "    <tr>\n",
       "      <th>2</th>\n",
       "      <td>2</td>\n",
       "      <td>Cn1c2ncn(CC(=O)N3CCOCC3)c2c(=O)n(C)c1=O</td>\n",
       "      <td>ZINC000000003942</td>\n",
       "      <td>Filter82_pyridinium &gt; 0</td>\n",
       "      <td>307.310</td>\n",
       "      <td>-1.7075</td>\n",
       "      <td>0</td>\n",
       "      <td>8</td>\n",
       "      <td>91.36</td>\n",
       "    </tr>\n",
       "    <tr>\n",
       "      <th>3</th>\n",
       "      <td>3</td>\n",
       "      <td>CN1C(=O)C[C@H](N2CCN(C(=O)CN3CCCC3)CC2)C1=O</td>\n",
       "      <td>ZINC000000036436</td>\n",
       "      <td>OK</td>\n",
       "      <td>308.382</td>\n",
       "      <td>-1.0163</td>\n",
       "      <td>0</td>\n",
       "      <td>5</td>\n",
       "      <td>64.17</td>\n",
       "    </tr>\n",
       "    <tr>\n",
       "      <th>4</th>\n",
       "      <td>4</td>\n",
       "      <td>CC(=O)NC[C@H](O)[C@H]1O[C@H]2OC(C)(C)O[C@H]2[C...</td>\n",
       "      <td>ZINC000000041101</td>\n",
       "      <td>OK</td>\n",
       "      <td>302.327</td>\n",
       "      <td>-1.1355</td>\n",
       "      <td>3</td>\n",
       "      <td>6</td>\n",
       "      <td>106.12</td>\n",
       "    </tr>\n",
       "  </tbody>\n",
       "</table>\n",
       "</div>"
      ],
      "text/plain": [
       "   Unnamed: 0                                             SMILES  \\\n",
       "0           0        CN(CCO)C[C@@H](O)Cn1cnc2c1c(=O)n(C)c(=O)n2C   \n",
       "1           1  O=c1[nH]c(=O)n([C@@H]2C[C@@H](O)[C@H](CO)O2)cc1Br   \n",
       "2           2            Cn1c2ncn(CC(=O)N3CCOCC3)c2c(=O)n(C)c1=O   \n",
       "3           3        CN1C(=O)C[C@H](N2CCN(C(=O)CN3CCCC3)CC2)C1=O   \n",
       "4           4  CC(=O)NC[C@H](O)[C@H]1O[C@H]2OC(C)(C)O[C@H]2[C...   \n",
       "\n",
       "               NAME                   FILTER       MW    LogP  HBD  HBA  \\\n",
       "0  ZINC000000000843  Filter82_pyridinium > 0  311.342 -2.2813    2    9   \n",
       "1  ZINC000000001063        Filter9_metal > 0  307.100 -1.0602    3    6   \n",
       "2  ZINC000000003942  Filter82_pyridinium > 0  307.310 -1.7075    0    8   \n",
       "3  ZINC000000036436                       OK  308.382 -1.0163    0    5   \n",
       "4  ZINC000000041101                       OK  302.327 -1.1355    3    6   \n",
       "\n",
       "     TPSA  \n",
       "0  105.52  \n",
       "1  104.55  \n",
       "2   91.36  \n",
       "3   64.17  \n",
       "4  106.12  "
      ]
     },
     "execution_count": 16,
     "metadata": {},
     "output_type": "execute_result"
    }
   ],
   "source": [
    "df.head()"
   ]
  },
  {
   "cell_type": "markdown",
   "metadata": {},
   "source": [
    "We can use the Counter class from the Python \"collections\" library to identify which filters were responsible for removing the largest number of molecules."
   ]
  },
  {
   "cell_type": "code",
   "execution_count": 17,
   "metadata": {},
   "outputs": [
    {
     "data": {
      "text/html": [
       "<div>\n",
       "<style scoped>\n",
       "    .dataframe tbody tr th:only-of-type {\n",
       "        vertical-align: middle;\n",
       "    }\n",
       "\n",
       "    .dataframe tbody tr th {\n",
       "        vertical-align: top;\n",
       "    }\n",
       "\n",
       "    .dataframe thead th {\n",
       "        text-align: right;\n",
       "    }\n",
       "</style>\n",
       "<table border=\"1\" class=\"dataframe\">\n",
       "  <thead>\n",
       "    <tr style=\"text-align: right;\">\n",
       "      <th></th>\n",
       "      <th>Rule</th>\n",
       "      <th>Count</th>\n",
       "    </tr>\n",
       "  </thead>\n",
       "  <tbody>\n",
       "    <tr>\n",
       "      <th>2</th>\n",
       "      <td>OK</td>\n",
       "      <td>69141</td>\n",
       "    </tr>\n",
       "    <tr>\n",
       "      <th>7</th>\n",
       "      <td>Filter41_12_dicarbonyl &gt; 0</td>\n",
       "      <td>19330</td>\n",
       "    </tr>\n",
       "    <tr>\n",
       "      <th>0</th>\n",
       "      <td>Filter82_pyridinium &gt; 0</td>\n",
       "      <td>7720</td>\n",
       "    </tr>\n",
       "    <tr>\n",
       "      <th>11</th>\n",
       "      <td>Filter93_acetyl_urea &gt; 0</td>\n",
       "      <td>1541</td>\n",
       "    </tr>\n",
       "    <tr>\n",
       "      <th>12</th>\n",
       "      <td>Filter78_bicyclic_Imide &gt; 0</td>\n",
       "      <td>825</td>\n",
       "    </tr>\n",
       "  </tbody>\n",
       "</table>\n",
       "</div>"
      ],
      "text/plain": [
       "                           Rule  Count\n",
       "2                            OK  69141\n",
       "7    Filter41_12_dicarbonyl > 0  19330\n",
       "0       Filter82_pyridinium > 0   7720\n",
       "11     Filter93_acetyl_urea > 0   1541\n",
       "12  Filter78_bicyclic_Imide > 0    825"
      ]
     },
     "execution_count": 17,
     "metadata": {},
     "output_type": "execute_result"
    }
   ],
   "source": [
    "from collections import Counter\n",
    "count_list = list(Counter(df.FILTER).items())\n",
    "count_df = pd.DataFrame(count_list,columns=[\"Rule\",\"Count\"])\n",
    "count_df.sort_values(\"Count\",inplace=True,ascending=False)\n",
    "count_df.head()"
   ]
  },
  {
   "cell_type": "markdown",
   "metadata": {},
   "source": [
    "The largest number of molecules (19,330) were rejected because they contained a 1,2 dicarbonyl group.  Molecules of this type have a tendency to act a Michael Acceptors and may reactive with nucleophilic protein residues such as serine and cysteine. Let's take a look at a few of these molecules.  "
   ]
  },
  {
   "cell_type": "code",
   "execution_count": 18,
   "metadata": {},
   "outputs": [],
   "source": [
    "smiles_list = df[df.FILTER == \"Filter41_12_dicarbonyl > 0\"].SMILES[:10]\n"
   ]
  },
  {
   "cell_type": "code",
   "execution_count": 19,
   "metadata": {},
   "outputs": [
    {
     "data": {
      "image/png": "[encoded data removed]",
      "text/plain": [
       "<PIL.PngImagePlugin.PngImageFile image mode=RGB size=1000x400 at 0x7F31F4698F60>"
      ]
     },
     "execution_count": 19,
     "metadata": {},
     "output_type": "execute_result"
    }
   ],
   "source": [
    "from rdkit import Chem\n",
    "from rdkit.Chem import Draw\n",
    "\n",
    "mol_list = [Chem.MolFromSmiles(x) for x in smiles_list]\n",
    "dicarbonyl = Chem.MolFromSmarts('*C(=O)C(=O)*')\n",
    "match_list = [mol.GetSubstructMatch(dicarbonyl) for mol in mol_list]\n",
    "Draw.MolsToGridImage(mol_list,highlightAtomLists=match_list,molsPerRow=5)"
   ]
  },
  {
   "cell_type": "markdown",
   "metadata": {},
   "source": [
    "As we can see above, the molecules do indeed have dicarbonyl groups.  If we wanted to we could similarly evaluate other filters."
   ]
  },
  {
   "cell_type": "code",
   "execution_count": null,
   "metadata": {},
   "outputs": [],
   "source": []
  }
 ],
 "metadata": {
  "kernelspec": {
   "display_name": "Python 3",
   "language": "python",
   "name": "python3"
  },
  "language_info": {
   "codemirror_mode": {
    "name": "ipython",
    "version": 3
   },
   "file_extension": ".py",
   "mimetype": "text/x-python",
   "name": "python",
   "nbconvert_exporter": "python",
   "pygments_lexer": "ipython3",
   "version": "3.6.7"
  }
 },
 "nbformat": 4,
 "nbformat_minor": 2
}
